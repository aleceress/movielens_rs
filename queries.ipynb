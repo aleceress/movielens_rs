{
 "cells": [
  {
   "cell_type": "code",
   "execution_count": 2,
   "metadata": {},
   "outputs": [],
   "source": [
    "from py2neo import *\n",
    "import pandas as pd\n",
    "import time\n",
    "from tqdm import tqdm\n",
    "import getpass"
   ]
  },
  {
   "cell_type": "code",
   "execution_count": 3,
   "metadata": {},
   "outputs": [],
   "source": [
    "username = input(\"Enter username: \")\n",
    "password = getpass.getpass('Enter password: ')\n",
    "port = input(\"Enter Neo4j listening port: \")\n",
    "graph = Graph(f\"bolt://localhost:{port}\", auth=(username, password))"
   ]
  },
  {
   "cell_type": "markdown",
   "metadata": {},
   "source": [
    "__Query 1__: Ottenere i __top $\\mathbf{k}$ Genres__, dato un __User__."
   ]
  },
  {
   "cell_type": "markdown",
   "metadata": {},
   "source": [
    "Esempi di esecuzione con $k=5$"
   ]
  },
  {
   "cell_type": "code",
   "execution_count": 5,
   "metadata": {},
   "outputs": [],
   "source": [
    "user_uuid_associations = pd.read_pickle(\"data/users_uuids.pkl\")"
   ]
  },
  {
   "cell_type": "markdown",
   "metadata": {},
   "source": [
    "__Metodo 1: media score__"
   ]
  },
  {
   "cell_type": "code",
   "execution_count": 6,
   "metadata": {},
   "outputs": [
    {
     "data": {
      "text/html": [
       "<table><tr><th>GENRE</th><th>AVG_SCORE</th></tr><tr><td style=\"text-align:left\">Thriller</td><td style=\"text-align:right\">4.2</td></tr><tr><td style=\"text-align:left\">Action</td><td style=\"text-align:right\">4.0</td></tr><tr><td style=\"text-align:left\">Animation</td><td style=\"text-align:right\">4.0</td></tr><tr><td style=\"text-align:left\">Romance</td><td style=\"text-align:right\">3.9444444444444446</td></tr><tr><td style=\"text-align:left\">Crime</td><td style=\"text-align:right\">3.875</td></tr></table>"
      ],
      "text/plain": [
       " GENRE     |          AVG_SCORE \n",
       "-----------|--------------------\n",
       " Thriller  |                4.2 \n",
       " Action    |                4.0 \n",
       " Animation |                4.0 \n",
       " Romance   | 3.9444444444444446 \n",
       " Crime     |              3.875 "
      ]
     },
     "execution_count": 6,
     "metadata": {},
     "output_type": "execute_result"
    }
   ],
   "source": [
    "user_id = user_uuid_associations[1]\n",
    "K = 5\n",
    "\n",
    "graph.run(\n",
    "    (\n",
    "        \"MATCH(u:User)-[r:RATES]->(m:Movie)-[h:HAS_GENRE]->(g:Genre)\"\n",
    "        f\"WHERE u.id = '{user_id}'\"\n",
    "        \"RETURN g.name as GENRE, AVG(r.score) as AVG_SCORE \"\n",
    "        \"ORDER BY AVG_SCORE DESC \"\n",
    "        f\"LIMIT {K}\"\n",
    "    )\n",
    ").to_table()\n"
   ]
  },
  {
   "cell_type": "markdown",
   "metadata": {},
   "source": [
    "__Metodo 2: max score * count score__"
   ]
  },
  {
   "cell_type": "code",
   "execution_count": 34,
   "metadata": {},
   "outputs": [
    {
     "data": {
      "text/html": [
       "<table><tr><th>GENRE</th><th>SCORE</th></tr><tr><td style=\"text-align:left\">Drama</td><td style=\"text-align:right\">265</td></tr><tr><td style=\"text-align:left\">Comedy</td><td style=\"text-align:right\">115</td></tr><tr><td style=\"text-align:left\">Romance</td><td style=\"text-align:right\">90</td></tr><tr><td style=\"text-align:left\">Adventure</td><td style=\"text-align:right\">55</td></tr><tr><td style=\"text-align:left\">Crime</td><td style=\"text-align:right\">40</td></tr></table>"
      ],
      "text/plain": [
       " GENRE     | SCORE \n",
       "-----------|-------\n",
       " Drama     |   265 \n",
       " Comedy    |   115 \n",
       " Romance   |    90 \n",
       " Adventure |    55 \n",
       " Crime     |    40 "
      ]
     },
     "execution_count": 34,
     "metadata": {},
     "output_type": "execute_result"
    }
   ],
   "source": [
    "graph.run(\n",
    "    (\n",
    "        \"MATCH(u:User)-[r:RATES]->(m:Movie)-[h:HAS_GENRE]->(g:Genre) \"\n",
    "        f\"WHERE u.id = '{user_id}' \"\n",
    "        \"RETURN g.name as GENRE, MAX(r.score)*COUNT(r.score) as SCORE \"\n",
    "        \"ORDER BY SCORE DESC \"\n",
    "        f\"LIMIT {K}\"\n",
    "    )\n",
    ").to_table()\n"
   ]
  },
  {
   "cell_type": "markdown",
   "metadata": {},
   "source": [
    "__Tempo di computazione (Metodo 1)__"
   ]
  },
  {
   "cell_type": "code",
   "execution_count": 37,
   "metadata": {},
   "outputs": [],
   "source": [
    "def get_top_k_genres(user_id, K):\n",
    "    return graph.run(\n",
    "            (\n",
    "                \"MATCH(u:User)-[r:RATES]->(m:Movie)-[h:HAS_GENRE]->(g:Genre)\"\n",
    "                f\"WHERE u.id = '{user_id}'\"\n",
    "                \"RETURN g.name as GENRE, AVG(r.score) as AVG_SCORE \"\n",
    "                \"ORDER BY AVG_SCORE DESC \"\n",
    "                f\"LIMIT {K}\"\n",
    "            )\n",
    "        ).to_table()"
   ]
  },
  {
   "cell_type": "code",
   "execution_count": 43,
   "metadata": {},
   "outputs": [
    {
     "name": "stderr",
     "output_type": "stream",
     "text": [
      "100%|██████████| 162541/162541 [17:48<00:00, 152.10it/s] "
     ]
    },
    {
     "name": "stdout",
     "output_type": "stream",
     "text": [
      "0.00651306757677376\n"
     ]
    },
    {
     "name": "stderr",
     "output_type": "stream",
     "text": [
      "\n"
     ]
    }
   ],
   "source": [
    "total_time = 0\n",
    "\n",
    "for user_id in tqdm(user_uuid_associations.values()):\n",
    "    start_time = time.time()\n",
    "    get_top_k_genres(user_id, K)\n",
    "    total_time += (time.time() - start_time)\n",
    "    \n",
    "print(total_time/len(user_uuid_associations.values()))"
   ]
  },
  {
   "cell_type": "markdown",
   "metadata": {},
   "source": [
    "__Query 2__: Ottenere le __top $\\mathbf{k}$ Categories__, dato un __User__ "
   ]
  },
  {
   "cell_type": "markdown",
   "metadata": {},
   "source": [
    "__Metodo 1: media relevance * media score__"
   ]
  },
  {
   "cell_type": "code",
   "execution_count": 19,
   "metadata": {},
   "outputs": [
    {
     "data": {
      "text/html": [
       "<table><tr><th>CATEGORY</th><th>SCORE</th></tr><tr><td style=\"text-align:left\">jay and silent bob</td><td style=\"text-align:right\">4.473</td></tr><tr><td style=\"text-align:left\">math</td><td style=\"text-align:right\">4.399875</td></tr><tr><td style=\"text-align:left\">mathematics</td><td style=\"text-align:right\">4.33575</td></tr><tr><td style=\"text-align:left\">tolkien</td><td style=\"text-align:right\">3.993859375</td></tr><tr><td style=\"text-align:left\">short-term memory loss</td><td style=\"text-align:right\">3.992</td></tr></table>"
      ],
      "text/plain": [
       " CATEGORY               |       SCORE \n",
       "------------------------|-------------\n",
       " jay and silent bob     |       4.473 \n",
       " math                   |    4.399875 \n",
       " mathematics            |     4.33575 \n",
       " tolkien                | 3.993859375 \n",
       " short-term memory loss |       3.992 "
      ]
     },
     "execution_count": 19,
     "metadata": {},
     "output_type": "execute_result"
    }
   ],
   "source": [
    "graph.run(\n",
    "    (\n",
    "        \"MATCH(u:User)-[r:RATES]->(m:Movie)-[h:HAS_CATEGORY]->(c:Category) \"\n",
    "        f\"WHERE u.id = '{user_id}' \"\n",
    "        \"RETURN c.name as CATEGORY, AVG(h.relevance)*AVG(r.score) as SCORE \"\n",
    "        \"ORDER BY SCORE DESC \"\n",
    "        f\"LIMIT {K}\"\n",
    "    )\n",
    ").to_table()\n"
   ]
  },
  {
   "cell_type": "markdown",
   "metadata": {},
   "source": [
    "__Metodo 2: media relevance* count rating * max score__"
   ]
  },
  {
   "cell_type": "code",
   "execution_count": 8,
   "metadata": {},
   "outputs": [
    {
     "data": {
      "text/html": [
       "<table><tr><th>CATEGORY</th><th>SCORE</th></tr><tr><td style=\"text-align:left\">original</td><td style=\"text-align:right\">250.45125</td></tr><tr><td style=\"text-align:left\">criterion</td><td style=\"text-align:right\">211.21375</td></tr><tr><td style=\"text-align:left\">storytelling</td><td style=\"text-align:right\">209.69875</td></tr><tr><td style=\"text-align:left\">melancholic</td><td style=\"text-align:right\">209.55874999999997</td></tr><tr><td style=\"text-align:left\">reflective</td><td style=\"text-align:right\">199.23749999999998</td></tr></table>"
      ],
      "text/plain": [
       " CATEGORY     |              SCORE \n",
       "--------------|--------------------\n",
       " original     |          250.45125 \n",
       " criterion    |          211.21375 \n",
       " storytelling |          209.69875 \n",
       " melancholic  | 209.55874999999997 \n",
       " reflective   | 199.23749999999998 "
      ]
     },
     "execution_count": 8,
     "metadata": {},
     "output_type": "execute_result"
    }
   ],
   "source": [
    "graph.run(\n",
    "    (\n",
    "        \"MATCH(u:User)-[r:RATES]->(m:Movie)-[h:HAS_CATEGORY]->(c:Category) \"\n",
    "        f\"WHERE u.id = '{user_id}' \"\n",
    "        \"RETURN c.name as CATEGORY, AVG(h.relevance)*COUNT(r.score)*MAX(r.score) as SCORE \"\n",
    "        \"ORDER BY SCORE DESC \"\n",
    "        f\"LIMIT {K}\"\n",
    "    )\n",
    ").to_table()\n"
   ]
  },
  {
   "cell_type": "markdown",
   "metadata": {},
   "source": [
    "__Tempo di computazione (Metodo 1)__"
   ]
  },
  {
   "cell_type": "code",
   "execution_count": 20,
   "metadata": {},
   "outputs": [],
   "source": [
    "def get_top_k_categories(user_id, K):\n",
    "    return graph.run(\n",
    "        (\n",
    "            \"MATCH(u:User)-[r:RATES]->(m:Movie)-[h:HAS_CATEGORY]-(c:Category) \"\n",
    "            f\"WHERE u.id = '{user_id}' \"\n",
    "            \"RETURN c.name as CATEGORY, AVG(h.relevance)*COUNT(r.score)*MAX(r.score) as SCORE \"\n",
    "            \"ORDER BY SCORE DESC \"\n",
    "            f\"LIMIT {K}\"\n",
    "        )\n",
    "    ).to_table()\n"
   ]
  },
  {
   "cell_type": "code",
   "execution_count": 10,
   "metadata": {},
   "outputs": [
    {
     "name": "stderr",
     "output_type": "stream",
     "text": [
      "100%|██████████| 162541/162541 [1:23:21<00:00, 32.50it/s]"
     ]
    },
    {
     "name": "stdout",
     "output_type": "stream",
     "text": [
      "0.030554692825194497\n"
     ]
    },
    {
     "name": "stderr",
     "output_type": "stream",
     "text": [
      "\n"
     ]
    }
   ],
   "source": [
    "total_time = 0\n",
    "\n",
    "for user_id in tqdm(user_uuid_associations.values()):\n",
    "    start_time = time.time()\n",
    "    get_top_k_categories(user_id, K)\n",
    "    total_time += (time.time() - start_time)\n",
    "    \n",
    "print(total_time/len(user_uuid_associations.values()))"
   ]
  },
  {
   "cell_type": "markdown",
   "metadata": {},
   "source": [
    "__Query 3__ : Ottenere i __top $\\mathbf{k}$ Movies__, dato un __Genre__."
   ]
  },
  {
   "cell_type": "code",
   "execution_count": 6,
   "metadata": {},
   "outputs": [],
   "source": [
    "genre_uuid_associations = pd.read_pickle(\"data/genre_uuids.pkl\")"
   ]
  },
  {
   "cell_type": "markdown",
   "metadata": {},
   "source": [
    "__Metodo 1: media degli score__"
   ]
  },
  {
   "cell_type": "code",
   "execution_count": 14,
   "metadata": {},
   "outputs": [
    {
     "data": {
      "text/html": [
       "<table><tr><th>MOVIE</th><th>SCORE</th></tr><tr><td style=\"text-align:left\">Days of Power</td><td style=\"text-align:right\">5.0</td></tr><tr><td style=\"text-align:left\">White Rush</td><td style=\"text-align:right\">5.0</td></tr><tr><td style=\"text-align:left\">Pit Fighter</td><td style=\"text-align:right\">5.0</td></tr><tr><td style=\"text-align:left\">Throwback</td><td style=\"text-align:right\">5.0</td></tr><tr><td style=\"text-align:left\">Santosh Subramaniam</td><td style=\"text-align:right\">5.0</td></tr><tr><td style=\"text-align:left\">Kabir Singh</td><td style=\"text-align:right\">5.0</td></tr><tr><td style=\"text-align:left\">Junga</td><td style=\"text-align:right\">5.0</td></tr><tr><td style=\"text-align:left\">Awe!</td><td style=\"text-align:right\">5.0</td></tr><tr><td style=\"text-align:left\">Kaithi</td><td style=\"text-align:right\">5.0</td></tr><tr><td style=\"text-align:left\">Dangerous Flowers</td><td style=\"text-align:right\">5.0</td></tr></table>"
      ],
      "text/plain": [
       " MOVIE               | SCORE \n",
       "---------------------|-------\n",
       " Days of Power       |   5.0 \n",
       " White Rush          |   5.0 \n",
       " Pit Fighter         |   5.0 \n",
       " Throwback           |   5.0 \n",
       " Santosh Subramaniam |   5.0 \n",
       " Kabir Singh         |   5.0 \n",
       " Junga               |   5.0 \n",
       " Awe!                |   5.0 \n",
       " Kaithi              |   5.0 \n",
       " Dangerous Flowers   |   5.0 "
      ]
     },
     "execution_count": 14,
     "metadata": {},
     "output_type": "execute_result"
    }
   ],
   "source": [
    "genre_id = genre_uuid_associations['Action']\n",
    "\n",
    "graph.run(\n",
    "    (\n",
    "        f\"MATCH(g:Genre{{id: '{genre_id}'}})<-[h:HAS_GENRE]-(m:Movie)<-[r:RATES]-(u:User)\"\n",
    "        \"RETURN m.title as MOVIE, avg(r.score) as SCORE \"\n",
    "        \"ORDER BY SCORE DESC \"\n",
    "        \"LIMIT 10\"\n",
    "    )\n",
    ").to_table()\n"
   ]
  },
  {
   "cell_type": "markdown",
   "metadata": {},
   "source": [
    "__Metodo 2: count * max score__"
   ]
  },
  {
   "cell_type": "code",
   "execution_count": 17,
   "metadata": {},
   "outputs": [
    {
     "data": {
      "text/html": [
       "<table><tr><th>MOVIE</th><th>SCORE</th></tr><tr><td style=\"text-align:left\">Matrix, The</td><td style=\"text-align:right\">363370</td></tr><tr><td style=\"text-align:left\">Star Wars: Episode IV - A New Hope</td><td style=\"text-align:right\">343585</td></tr><tr><td style=\"text-align:left\">Jurassic Park</td><td style=\"text-align:right\">320720</td></tr><tr><td style=\"text-align:left\">Braveheart</td><td style=\"text-align:right\">295920</td></tr><tr><td style=\"text-align:left\">Fight Club</td><td style=\"text-align:right\">293865</td></tr><tr><td style=\"text-align:left\">Terminator 2: Judgment Day</td><td style=\"text-align:right\">286895</td></tr><tr><td style=\"text-align:left\">Star Wars: Episode V - The Empire Strikes Back</td><td style=\"text-align:right\">286805</td></tr><tr><td style=\"text-align:left\">Star Wars: Episode VI - Return of the Jedi</td><td style=\"text-align:right\">274585</td></tr><tr><td style=\"text-align:left\">Raiders of the Lost Ark (Indiana Jones and the Raiders of the Lost Ark)</td><td style=\"text-align:right\">273375</td></tr><tr><td style=\"text-align:left\">Lord of the Rings: The Return of the King, The</td><td style=\"text-align:right\">253985</td></tr></table>"
      ],
      "text/plain": [
       " MOVIE                                                                   |  SCORE \n",
       "-------------------------------------------------------------------------|--------\n",
       " Matrix, The                                                             | 363370 \n",
       " Star Wars: Episode IV - A New Hope                                      | 343585 \n",
       " Jurassic Park                                                           | 320720 \n",
       " Braveheart                                                              | 295920 \n",
       " Fight Club                                                              | 293865 \n",
       " Terminator 2: Judgment Day                                              | 286895 \n",
       " Star Wars: Episode V - The Empire Strikes Back                          | 286805 \n",
       " Star Wars: Episode VI - Return of the Jedi                              | 274585 \n",
       " Raiders of the Lost Ark (Indiana Jones and the Raiders of the Lost Ark) | 273375 \n",
       " Lord of the Rings: The Return of the King, The                          | 253985 "
      ]
     },
     "execution_count": 17,
     "metadata": {},
     "output_type": "execute_result"
    }
   ],
   "source": [
    "graph.run(\n",
    "    (\n",
    "        f\"MATCH(g:Genre{{id: '{genre_id}'}})<-[h:HAS_GENRE]-(m:Movie)<-[r:RATES]-(u:User)\"\n",
    "        \"RETURN m.title as MOVIE, count(r.score)*max(r.score) as SCORE \"\n",
    "        \"ORDER BY SCORE DESC \"\n",
    "        \"LIMIT 10\"\n",
    "    )\n",
    ").to_table()\n"
   ]
  },
  {
   "cell_type": "markdown",
   "metadata": {},
   "source": [
    "__Tempo di computazione (Metodo 1)__"
   ]
  },
  {
   "cell_type": "code",
   "execution_count": 11,
   "metadata": {},
   "outputs": [],
   "source": [
    "def get_top_k_movies(genre_id, K):\n",
    "    return graph.run(\n",
    "        (\n",
    "            f\"MATCH(g:Genre{{id: '{genre_id}'}})<-[h:HAS_GENRE]-(m:Movie)<-[r:RATES]-(u:User)\"\n",
    "            \"RETURN m.title as MOVIE, count(r.score)*max(r.score) as SCORE \"\n",
    "            \"ORDER BY SCORE DESC \"\n",
    "            f\"LIMIT {K}\"\n",
    "        )\n",
    "    )"
   ]
  },
  {
   "cell_type": "code",
   "execution_count": 15,
   "metadata": {},
   "outputs": [
    {
     "name": "stderr",
     "output_type": "stream",
     "text": [
      "100%|██████████| 19/19 [06:01<00:00, 19.00s/it]"
     ]
    },
    {
     "name": "stdout",
     "output_type": "stream",
     "text": [
      "19.00047913350557\n"
     ]
    },
    {
     "name": "stderr",
     "output_type": "stream",
     "text": [
      "\n"
     ]
    }
   ],
   "source": [
    "total_time = 0\n",
    "\n",
    "for genre_id in tqdm(genre_uuid_associations.values()):\n",
    "    start_time = time.time()\n",
    "    get_top_k_movies(genre_id, K)\n",
    "    total_time += (time.time() - start_time)\n",
    "    \n",
    "print(total_time/len(genre_uuid_associations.values()))"
   ]
  },
  {
   "cell_type": "markdown",
   "metadata": {},
   "source": [
    "__Query 4__ : Ottenere i __top $\\mathbf{k}$ Movies__, data una __Category__."
   ]
  },
  {
   "cell_type": "code",
   "execution_count": 23,
   "metadata": {},
   "outputs": [],
   "source": [
    "categories_uuid_associations = pd.read_pickle(\"data/categories_uuids.pkl\")\n",
    "category_id = categories_uuid_associations[1]"
   ]
  },
  {
   "cell_type": "code",
   "execution_count": 21,
   "metadata": {},
   "outputs": [
    {
     "data": {
      "text/html": [
       "<table><tr><th>MOVIE</th><th>RELEVANCE</th></tr><tr><td style=\"text-align:left\">Tomorrow Never Dies</td><td style=\"text-align:right\">0.99975</td></tr><tr><td style=\"text-align:left\">Octopussy</td><td style=\"text-align:right\">0.99975</td></tr><tr><td style=\"text-align:left\">You Only Live Twice</td><td style=\"text-align:right\">0.99975</td></tr><tr><td style=\"text-align:left\">Never Say Never Again</td><td style=\"text-align:right\">0.99975</td></tr><tr><td style=\"text-align:left\">View to a Kill, A</td><td style=\"text-align:right\">0.99975</td></tr></table>"
      ],
      "text/plain": [
       " MOVIE                 | RELEVANCE \n",
       "-----------------------|-----------\n",
       " Tomorrow Never Dies   |   0.99975 \n",
       " Octopussy             |   0.99975 \n",
       " You Only Live Twice   |   0.99975 \n",
       " Never Say Never Again |   0.99975 \n",
       " View to a Kill, A     |   0.99975 "
      ]
     },
     "execution_count": 21,
     "metadata": {},
     "output_type": "execute_result"
    }
   ],
   "source": [
    "graph.run(\n",
    "    (\n",
    "        f\"MATCH(c:Category{{id: '{category_id}'}})<-[h:HAS_CATEGORY]-(m:Movie) \"\n",
    "        \"RETURN m.title as MOVIE, h.relevance as RELEVANCE \"\n",
    "        \"ORDER BY RELEVANCE DESC \"\n",
    "        \"LIMIT 5\"\n",
    "    )\n",
    ").to_table()\n"
   ]
  },
  {
   "cell_type": "code",
   "execution_count": 25,
   "metadata": {},
   "outputs": [
    {
     "data": {
      "text/html": [
       "<table><tr><th>MOVIE</th><th>POP_RELEVANCE</th></tr><tr><td style=\"text-align:left\">Casino Royale</td><td style=\"text-align:right\">3.616791603519913</td></tr><tr><td style=\"text-align:left\">Goldfinger</td><td style=\"text-align:right\">3.6059323084552517</td></tr><tr><td style=\"text-align:left\">Ipcress File, The</td><td style=\"text-align:right\">3.605676671214189</td></tr><tr><td style=\"text-align:left\">From Russia with Love</td><td style=\"text-align:right\">3.5721480889553874</td></tr><tr><td style=\"text-align:left\">Dr. No</td><td style=\"text-align:right\">3.5470968750000127</td></tr></table>"
      ],
      "text/plain": [
       " MOVIE                 |      POP_RELEVANCE \n",
       "-----------------------|--------------------\n",
       " Casino Royale         |  3.616791603519913 \n",
       " Goldfinger            | 3.6059323084552517 \n",
       " Ipcress File, The     |  3.605676671214189 \n",
       " From Russia with Love | 3.5721480889553874 \n",
       " Dr. No                | 3.5470968750000127 "
      ]
     },
     "execution_count": 25,
     "metadata": {},
     "output_type": "execute_result"
    }
   ],
   "source": [
    "graph.run(\n",
    "    (\n",
    "        f\"MATCH(c:Category{{id: '{category_id}'}})<-[h:HAS_CATEGORY]-(m:Movie)<-[r:RATES]-(u:User)\"\n",
    "        \"RETURN m.title as MOVIE, h.relevance*avg(r.score) as POP_RELEVANCE \"\n",
    "        \"ORDER BY POP_RELEVANCE DESC \"\n",
    "        \"LIMIT 5\"\n",
    "    )\n",
    ").to_table()\n"
   ]
  },
  {
   "cell_type": "code",
   "execution_count": 26,
   "metadata": {},
   "outputs": [],
   "source": [
    "def get_top_k_movies(category_id, K):\n",
    "    graph.run(\n",
    "    (\n",
    "        f\"MATCH(c:Category{{id: '{category_id}'}})<-[h:HAS_CATEGORY]-(m:Movie)<-[r:RATES]-(u:User)\"\n",
    "        \"RETURN m.title as MOVIE, h.relevance*avg(r.score) as POP_RELEVANCE \"\n",
    "        \"ORDER BY POP_RELEVANCE DESC \"\n",
    "        f\"LIMIT {K}\"\n",
    "    )\n",
    ").to_table()"
   ]
  },
  {
   "cell_type": "code",
   "execution_count": 27,
   "metadata": {},
   "outputs": [
    {
     "name": "stderr",
     "output_type": "stream",
     "text": [
      "  1%|          | 11/1128 [01:34<2:39:07,  8.55s/it]\n"
     ]
    },
    {
     "ename": "KeyboardInterrupt",
     "evalue": "",
     "output_type": "error",
     "traceback": [
      "\u001b[0;31m---------------------------------------------------------------------------\u001b[0m",
      "\u001b[0;31mKeyboardInterrupt\u001b[0m                         Traceback (most recent call last)",
      "\u001b[1;32m/home/alessia/Documenti/University/New Generation Data Models and DBMSs/queries.ipynb Cella 35\u001b[0m in \u001b[0;36m<cell line: 3>\u001b[0;34m()\u001b[0m\n\u001b[1;32m      <a href='vscode-notebook-cell:/home/alessia/Documenti/University/New%20Generation%20Data%20Models%20and%20DBMSs/queries.ipynb#Y125sZmlsZQ%3D%3D?line=2'>3</a>\u001b[0m \u001b[39mfor\u001b[39;00m category_id \u001b[39min\u001b[39;00m tqdm(categories_uuid_associations\u001b[39m.\u001b[39mvalues()):\n\u001b[1;32m      <a href='vscode-notebook-cell:/home/alessia/Documenti/University/New%20Generation%20Data%20Models%20and%20DBMSs/queries.ipynb#Y125sZmlsZQ%3D%3D?line=3'>4</a>\u001b[0m     start_time \u001b[39m=\u001b[39m time\u001b[39m.\u001b[39mtime()\n\u001b[0;32m----> <a href='vscode-notebook-cell:/home/alessia/Documenti/University/New%20Generation%20Data%20Models%20and%20DBMSs/queries.ipynb#Y125sZmlsZQ%3D%3D?line=4'>5</a>\u001b[0m     get_top_k_movies(category_id, K)\n\u001b[1;32m      <a href='vscode-notebook-cell:/home/alessia/Documenti/University/New%20Generation%20Data%20Models%20and%20DBMSs/queries.ipynb#Y125sZmlsZQ%3D%3D?line=5'>6</a>\u001b[0m     total_time \u001b[39m+\u001b[39m\u001b[39m=\u001b[39m (time\u001b[39m.\u001b[39mtime() \u001b[39m-\u001b[39m start_time)\n\u001b[1;32m      <a href='vscode-notebook-cell:/home/alessia/Documenti/University/New%20Generation%20Data%20Models%20and%20DBMSs/queries.ipynb#Y125sZmlsZQ%3D%3D?line=7'>8</a>\u001b[0m \u001b[39mprint\u001b[39m(total_time\u001b[39m/\u001b[39m\u001b[39mlen\u001b[39m(categories_uuid_associations\u001b[39m.\u001b[39mvalues()))\n",
      "\u001b[1;32m/home/alessia/Documenti/University/New Generation Data Models and DBMSs/queries.ipynb Cella 35\u001b[0m in \u001b[0;36mget_top_k_movies\u001b[0;34m(category_id, K)\u001b[0m\n\u001b[1;32m      <a href='vscode-notebook-cell:/home/alessia/Documenti/University/New%20Generation%20Data%20Models%20and%20DBMSs/queries.ipynb#Y125sZmlsZQ%3D%3D?line=0'>1</a>\u001b[0m \u001b[39mdef\u001b[39;00m \u001b[39mget_top_k_movies\u001b[39m(category_id, K):\n\u001b[0;32m----> <a href='vscode-notebook-cell:/home/alessia/Documenti/University/New%20Generation%20Data%20Models%20and%20DBMSs/queries.ipynb#Y125sZmlsZQ%3D%3D?line=1'>2</a>\u001b[0m     graph\u001b[39m.\u001b[39;49mrun(\n\u001b[1;32m      <a href='vscode-notebook-cell:/home/alessia/Documenti/University/New%20Generation%20Data%20Models%20and%20DBMSs/queries.ipynb#Y125sZmlsZQ%3D%3D?line=2'>3</a>\u001b[0m     (\n\u001b[1;32m      <a href='vscode-notebook-cell:/home/alessia/Documenti/University/New%20Generation%20Data%20Models%20and%20DBMSs/queries.ipynb#Y125sZmlsZQ%3D%3D?line=3'>4</a>\u001b[0m         \u001b[39mf\u001b[39;49m\u001b[39m\"\u001b[39;49m\u001b[39mMATCH(c:Category\u001b[39;49m\u001b[39m{{\u001b[39;49;00m\u001b[39mid: \u001b[39;49m\u001b[39m'\u001b[39;49m\u001b[39m{\u001b[39;49;00mcategory_id\u001b[39m}\u001b[39;49;00m\u001b[39m'\u001b[39;49m\u001b[39m}}\u001b[39;49;00m\u001b[39m)<-[h:HAS_CATEGORY]-(m:Movie)<-[r:RATES]-(u:User)\u001b[39;49m\u001b[39m\"\u001b[39;49m\n\u001b[1;32m      <a href='vscode-notebook-cell:/home/alessia/Documenti/University/New%20Generation%20Data%20Models%20and%20DBMSs/queries.ipynb#Y125sZmlsZQ%3D%3D?line=4'>5</a>\u001b[0m         \u001b[39m\"\u001b[39;49m\u001b[39mRETURN m.title as MOVIE, h.relevance*avg(r.score) as POP_RELEVANCE \u001b[39;49m\u001b[39m\"\u001b[39;49m\n\u001b[1;32m      <a href='vscode-notebook-cell:/home/alessia/Documenti/University/New%20Generation%20Data%20Models%20and%20DBMSs/queries.ipynb#Y125sZmlsZQ%3D%3D?line=5'>6</a>\u001b[0m         \u001b[39m\"\u001b[39;49m\u001b[39mORDER BY POP_RELEVANCE DESC \u001b[39;49m\u001b[39m\"\u001b[39;49m\n\u001b[1;32m      <a href='vscode-notebook-cell:/home/alessia/Documenti/University/New%20Generation%20Data%20Models%20and%20DBMSs/queries.ipynb#Y125sZmlsZQ%3D%3D?line=6'>7</a>\u001b[0m         \u001b[39mf\u001b[39;49m\u001b[39m\"\u001b[39;49m\u001b[39mLIMIT \u001b[39;49m\u001b[39m{\u001b[39;49;00mK\u001b[39m}\u001b[39;49;00m\u001b[39m\"\u001b[39;49m\n\u001b[1;32m      <a href='vscode-notebook-cell:/home/alessia/Documenti/University/New%20Generation%20Data%20Models%20and%20DBMSs/queries.ipynb#Y125sZmlsZQ%3D%3D?line=7'>8</a>\u001b[0m     )\n\u001b[1;32m      <a href='vscode-notebook-cell:/home/alessia/Documenti/University/New%20Generation%20Data%20Models%20and%20DBMSs/queries.ipynb#Y125sZmlsZQ%3D%3D?line=8'>9</a>\u001b[0m )\u001b[39m.\u001b[39mto_table()\n",
      "File \u001b[0;32m~/Documenti/University/New Generation Data Models and DBMSs/venv/lib/python3.10/site-packages/py2neo/database.py:405\u001b[0m, in \u001b[0;36mGraph.run\u001b[0;34m(self, cypher, parameters, **kwparameters)\u001b[0m\n\u001b[1;32m    395\u001b[0m \u001b[39mdef\u001b[39;00m \u001b[39mrun\u001b[39m(\u001b[39mself\u001b[39m, cypher, parameters\u001b[39m=\u001b[39m\u001b[39mNone\u001b[39;00m, \u001b[39m*\u001b[39m\u001b[39m*\u001b[39mkwparameters):\n\u001b[1;32m    396\u001b[0m     \u001b[39m\"\"\" Run a single read/write query within an auto-commit\u001b[39;00m\n\u001b[1;32m    397\u001b[0m \u001b[39m    :class:`~py2neo.Transaction`.\u001b[39;00m\n\u001b[1;32m    398\u001b[0m \n\u001b[0;32m   (...)\u001b[0m\n\u001b[1;32m    403\u001b[0m \u001b[39m    :return:\u001b[39;00m\n\u001b[1;32m    404\u001b[0m \u001b[39m    \"\"\"\u001b[39;00m\n\u001b[0;32m--> 405\u001b[0m     \u001b[39mreturn\u001b[39;00m \u001b[39mself\u001b[39;49m\u001b[39m.\u001b[39;49mauto()\u001b[39m.\u001b[39;49mrun(cypher, parameters, \u001b[39m*\u001b[39;49m\u001b[39m*\u001b[39;49mkwparameters)\n",
      "File \u001b[0;32m~/Documenti/University/New Generation Data Models and DBMSs/venv/lib/python3.10/site-packages/py2neo/database.py:992\u001b[0m, in \u001b[0;36mTransaction.run\u001b[0;34m(self, cypher, parameters, **kwparameters)\u001b[0m\n\u001b[1;32m    988\u001b[0m     \u001b[39melse\u001b[39;00m:\n\u001b[1;32m    989\u001b[0m         result \u001b[39m=\u001b[39m \u001b[39mself\u001b[39m\u001b[39m.\u001b[39m_connector\u001b[39m.\u001b[39mauto_run(cypher, parameters,\n\u001b[1;32m    990\u001b[0m                                           graph_name\u001b[39m=\u001b[39m\u001b[39mself\u001b[39m\u001b[39m.\u001b[39mgraph\u001b[39m.\u001b[39mname,\n\u001b[1;32m    991\u001b[0m                                           readonly\u001b[39m=\u001b[39m\u001b[39mself\u001b[39m\u001b[39m.\u001b[39mreadonly)\n\u001b[0;32m--> 992\u001b[0m     \u001b[39mself\u001b[39;49m\u001b[39m.\u001b[39;49m_connector\u001b[39m.\u001b[39;49mpull(result, \u001b[39m-\u001b[39;49m\u001b[39m1\u001b[39;49m)\n\u001b[1;32m    993\u001b[0m     \u001b[39mreturn\u001b[39;00m Cursor(result, hydrant)\n\u001b[1;32m    994\u001b[0m \u001b[39mfinally\u001b[39;00m:\n",
      "File \u001b[0;32m~/Documenti/University/New Generation Data Models and DBMSs/venv/lib/python3.10/site-packages/py2neo/client/__init__.py:1434\u001b[0m, in \u001b[0;36mConnector.pull\u001b[0;34m(self, result, n)\u001b[0m\n\u001b[1;32m   1432\u001b[0m cx \u001b[39m=\u001b[39m \u001b[39mself\u001b[39m\u001b[39m.\u001b[39m_reacquire(result\u001b[39m.\u001b[39mtransaction)\n\u001b[1;32m   1433\u001b[0m \u001b[39mtry\u001b[39;00m:\n\u001b[0;32m-> 1434\u001b[0m     cx\u001b[39m.\u001b[39;49mpull(result, n\u001b[39m=\u001b[39;49mn)\n\u001b[1;32m   1435\u001b[0m \u001b[39mexcept\u001b[39;00m (ConnectionUnavailable, ConnectionBroken):\n\u001b[1;32m   1436\u001b[0m     \u001b[39mself\u001b[39m\u001b[39m.\u001b[39mprune(cx\u001b[39m.\u001b[39mprofile)\n",
      "File \u001b[0;32m~/Documenti/University/New Generation Data Models and DBMSs/venv/lib/python3.10/site-packages/py2neo/client/bolt.py:995\u001b[0m, in \u001b[0;36mBolt4x0.pull\u001b[0;34m(self, result, n, capacity)\u001b[0m\n\u001b[1;32m    993\u001b[0m result\u001b[39m.\u001b[39mappend(response, final\u001b[39m=\u001b[39m(n \u001b[39m==\u001b[39m \u001b[39m-\u001b[39m\u001b[39m1\u001b[39m))\n\u001b[1;32m    994\u001b[0m \u001b[39mtry\u001b[39;00m:\n\u001b[0;32m--> 995\u001b[0m     \u001b[39mself\u001b[39;49m\u001b[39m.\u001b[39;49m_sync(response)\n\u001b[1;32m    996\u001b[0m \u001b[39mexcept\u001b[39;00m BrokenWireError \u001b[39mas\u001b[39;00m error:\n\u001b[1;32m    997\u001b[0m     result\u001b[39m.\u001b[39mtransaction\u001b[39m.\u001b[39mmark_broken()\n",
      "File \u001b[0;32m~/Documenti/University/New Generation Data Models and DBMSs/venv/lib/python3.10/site-packages/py2neo/client/bolt.py:799\u001b[0m, in \u001b[0;36mBolt1._sync\u001b[0;34m(self, *responses)\u001b[0m\n\u001b[1;32m    797\u001b[0m \u001b[39mself\u001b[39m\u001b[39m.\u001b[39msend()\n\u001b[1;32m    798\u001b[0m \u001b[39mfor\u001b[39;00m response \u001b[39min\u001b[39;00m responses:\n\u001b[0;32m--> 799\u001b[0m     \u001b[39mself\u001b[39;49m\u001b[39m.\u001b[39;49m_wait(response)\n",
      "File \u001b[0;32m~/Documenti/University/New Generation Data Models and DBMSs/venv/lib/python3.10/site-packages/py2neo/client/bolt.py:794\u001b[0m, in \u001b[0;36mBolt1._wait\u001b[0;34m(self, response)\u001b[0m\n\u001b[1;32m    787\u001b[0m \u001b[39m\"\"\" Read all incoming responses up to and including a\u001b[39;00m\n\u001b[1;32m    788\u001b[0m \u001b[39mparticular response.\u001b[39;00m\n\u001b[1;32m    789\u001b[0m \n\u001b[1;32m    790\u001b[0m \u001b[39mThis method calls fetch, but does not raise an exception on\u001b[39;00m\n\u001b[1;32m    791\u001b[0m \u001b[39mFAILURE.\u001b[39;00m\n\u001b[1;32m    792\u001b[0m \u001b[39m\"\"\"\u001b[39;00m\n\u001b[1;32m    793\u001b[0m \u001b[39mwhile\u001b[39;00m \u001b[39mnot\u001b[39;00m response\u001b[39m.\u001b[39mfull() \u001b[39mand\u001b[39;00m \u001b[39mnot\u001b[39;00m response\u001b[39m.\u001b[39mdone():\n\u001b[0;32m--> 794\u001b[0m     \u001b[39mself\u001b[39;49m\u001b[39m.\u001b[39;49m_fetch()\n",
      "File \u001b[0;32m~/Documenti/University/New Generation Data Models and DBMSs/venv/lib/python3.10/site-packages/py2neo/client/bolt.py:769\u001b[0m, in \u001b[0;36mBolt1._fetch\u001b[0;34m(self)\u001b[0m\n\u001b[1;32m    760\u001b[0m \u001b[39mdef\u001b[39;00m \u001b[39m_fetch\u001b[39m(\u001b[39mself\u001b[39m):\n\u001b[1;32m    761\u001b[0m     \u001b[39m\"\"\" Fetch and process the next incoming message.\u001b[39;00m\n\u001b[1;32m    762\u001b[0m \n\u001b[1;32m    763\u001b[0m \u001b[39m    This method does not raise an exception on receipt of a\u001b[39;00m\n\u001b[0;32m   (...)\u001b[0m\n\u001b[1;32m    767\u001b[0m \u001b[39m    failed state into an exception.\u001b[39;00m\n\u001b[1;32m    768\u001b[0m \u001b[39m    \"\"\"\u001b[39;00m\n\u001b[0;32m--> 769\u001b[0m     tag, fields \u001b[39m=\u001b[39m \u001b[39mself\u001b[39;49m\u001b[39m.\u001b[39;49mread_message()\n\u001b[1;32m    770\u001b[0m     \u001b[39mif\u001b[39;00m tag \u001b[39m==\u001b[39m \u001b[39m0x70\u001b[39m:\n\u001b[1;32m    771\u001b[0m         \u001b[39mself\u001b[39m\u001b[39m.\u001b[39m_responses\u001b[39m.\u001b[39mpopleft()\u001b[39m.\u001b[39mset_success(\u001b[39m*\u001b[39m\u001b[39m*\u001b[39mfields[\u001b[39m0\u001b[39m])\n",
      "File \u001b[0;32m~/Documenti/University/New Generation Data Models and DBMSs/venv/lib/python3.10/site-packages/py2neo/client/bolt.py:696\u001b[0m, in \u001b[0;36mBolt1.read_message\u001b[0;34m(self)\u001b[0m\n\u001b[1;32m    695\u001b[0m \u001b[39mdef\u001b[39;00m \u001b[39mread_message\u001b[39m(\u001b[39mself\u001b[39m):\n\u001b[0;32m--> 696\u001b[0m     tag, fields \u001b[39m=\u001b[39m \u001b[39mself\u001b[39;49m\u001b[39m.\u001b[39;49m_reader\u001b[39m.\u001b[39;49mread_message()\n\u001b[1;32m    697\u001b[0m     \u001b[39mif\u001b[39;00m tag \u001b[39m==\u001b[39m \u001b[39m0x71\u001b[39m:\n\u001b[1;32m    698\u001b[0m         \u001b[39m# If a RECORD is received, check for more records\u001b[39;00m\n\u001b[1;32m    699\u001b[0m         \u001b[39m# in the buffer immediately following, and log and\u001b[39;00m\n\u001b[1;32m    700\u001b[0m         \u001b[39m# add them all at the same time\u001b[39;00m\n\u001b[1;32m    701\u001b[0m         \u001b[39mwhile\u001b[39;00m \u001b[39mself\u001b[39m\u001b[39m.\u001b[39m_reader\u001b[39m.\u001b[39mpeek_message() \u001b[39m==\u001b[39m \u001b[39m0x71\u001b[39m:\n",
      "File \u001b[0;32m~/Documenti/University/New Generation Data Models and DBMSs/venv/lib/python3.10/site-packages/py2neo/client/bolt.py:156\u001b[0m, in \u001b[0;36mBoltMessageReader.read_message\u001b[0;34m(self)\u001b[0m\n\u001b[1;32m    154\u001b[0m \u001b[39mwhile\u001b[39;00m \u001b[39mTrue\u001b[39;00m:\n\u001b[1;32m    155\u001b[0m     \u001b[39mtry\u001b[39;00m:\n\u001b[0;32m--> 156\u001b[0m         hi, lo \u001b[39m=\u001b[39m \u001b[39mself\u001b[39;49m\u001b[39m.\u001b[39;49mwire\u001b[39m.\u001b[39;49mread(\u001b[39m2\u001b[39;49m)\n\u001b[1;32m    157\u001b[0m     \u001b[39mexcept\u001b[39;00m WireError \u001b[39mas\u001b[39;00m error:\n\u001b[1;32m    158\u001b[0m         raise_from(ConnectionBroken(\u001b[39m\"\u001b[39m\u001b[39mFailed to read message\u001b[39m\u001b[39m\"\u001b[39m), error)\n",
      "File \u001b[0;32m~/Documenti/University/New Generation Data Models and DBMSs/venv/lib/python3.10/site-packages/py2neo/wiring.py:117\u001b[0m, in \u001b[0;36mWire.read\u001b[0;34m(self, n)\u001b[0m\n\u001b[1;32m    115\u001b[0m requested \u001b[39m=\u001b[39m \u001b[39mmax\u001b[39m(required, \u001b[39m16384\u001b[39m)\n\u001b[1;32m    116\u001b[0m \u001b[39mtry\u001b[39;00m:\n\u001b[0;32m--> 117\u001b[0m     received \u001b[39m=\u001b[39m \u001b[39mself\u001b[39;49m\u001b[39m.\u001b[39;49m__socket\u001b[39m.\u001b[39;49mrecv(requested)\n\u001b[1;32m    118\u001b[0m \u001b[39mexcept\u001b[39;00m (\u001b[39mIOError\u001b[39;00m, \u001b[39mOSError\u001b[39;00m):\n\u001b[1;32m    119\u001b[0m     \u001b[39mself\u001b[39m\u001b[39m.\u001b[39m__mark_broken(\u001b[39m\"\u001b[39m\u001b[39mWire broken\u001b[39m\u001b[39m\"\u001b[39m)\n",
      "\u001b[0;31mKeyboardInterrupt\u001b[0m: "
     ]
    }
   ],
   "source": [
    "total_time = 0\n",
    "\n",
    "for category_id in tqdm(categories_uuid_associations.values()):\n",
    "    start_time = time.time()\n",
    "    get_top_k_movies(category_id, K)\n",
    "    total_time += (time.time() - start_time)\n",
    "    \n",
    "print(total_time/len(categories_uuid_associations.values()))"
   ]
  },
  {
   "cell_type": "markdown",
   "metadata": {},
   "source": [
    "#### __USER BASED CF__"
   ]
  },
  {
   "cell_type": "code",
   "execution_count": 37,
   "metadata": {},
   "outputs": [
    {
     "data": {
      "text/plain": [
       "'\\nCALL gds.graph.project(\\n  \\'movies_recommendations\\',                                \\n  [\"User\", \"Movie\", \"Genre\", \"Category\"],  \\n  [\"HAS_GENRE\",                  \\n  {\\n    RATES : { properties: \"score\"}\\n  },\\n  {\\n    DESCRIBES : { properties: \"relevance\"}\\n  }\\n  ]                       \\n)\\nYIELD\\n  graphName, nodeProjection, nodeCount AS nodes, relationshipCount AS rels\\nRETURN graphName, nodeProjection.Book AS bookProjection, nodes, rels\\n'"
      ]
     },
     "execution_count": 37,
     "metadata": {},
     "output_type": "execute_result"
    }
   ],
   "source": [
    "\"\"\"\n",
    "CALL gds.graph.project(\n",
    "  'movie_recommendations_cf',                                \n",
    "  [\"User\", \"Movie\", \"Genre\", \"Category\"],  \n",
    "  [\n",
    "  {\n",
    "    HAS_GENRE: {orientation: \"UNDIRECTED\"}\n",
    "  },\n",
    "  {\n",
    "    RATES : { properties: \"score\", orientation: \"UNDIRECTED\"}\n",
    "  },\n",
    "  {\n",
    "    DESCRIBES : { properties: \"relevance\", orientation: \"UNDIRECTED\"}\n",
    "  } \n",
    "  ]                \n",
    ")\n",
    "YIELD\n",
    "  graphName, nodeProjection, nodeCount AS nodes, relationshipCount AS rels\n",
    "RETURN graphName, nodeProjection.Book AS bookProjection, nodes, rels\n",
    "\"\"\""
   ]
  },
  {
   "cell_type": "code",
   "execution_count": null,
   "metadata": {},
   "outputs": [],
   "source": [
    "\"\"\"\n",
    "CALL gds.fastRP.mutate('movie_recommendations_cf',\n",
    "  {\n",
    "    nodeLabels: [\"User\", \"Movie\"],\n",
    "    relationshipTypes: [\"RATES\"],\n",
    "    embeddingDimension: 256,\n",
    "    relationshipWeightProperty: 'score',\n",
    "    randomSeed: 42,\n",
    "    mutateProperty: 'embedding'    \n",
    "  }\n",
    ")\n",
    "YIELD nodePropertiesWritten\n",
    "\"\"\"\n"
   ]
  },
  {
   "cell_type": "code",
   "execution_count": null,
   "metadata": {},
   "outputs": [],
   "source": [
    "\"\"\"\n",
    "CALL gds.fastRP.stream('movie_recommendations_cf',\n",
    "  {\n",
    "    nodeLabels: [\"User\", \"Movie\"],\n",
    "    relationshipTypes: [\"RATES\"],\n",
    "    embeddingDimension: 256,\n",
    "    relationshipWeightProperty: 'score',\n",
    "    randomSeed: 42\n",
    "  }\n",
    ")\n",
    "YIELD nodeId, embedding\n",
    "\"\"\""
   ]
  },
  {
   "cell_type": "code",
   "execution_count": null,
   "metadata": {},
   "outputs": [],
   "source": [
    "\"\"\"\n",
    "CALL gds.graph.writeNodeProperties('movie_recommendations_cf', ['embedding'], ['User'])\n",
    "YIELD propertiesWritten\n",
    "\"\"\""
   ]
  },
  {
   "cell_type": "code",
   "execution_count": null,
   "metadata": {},
   "outputs": [],
   "source": [
    "\"\"\"\n",
    "CALL gds.graph.project(\n",
    "  'cf-projection',  \n",
    "  {\n",
    "      User: {properties : \"embedding\"}\n",
    "  },   \n",
    "    [\"*\"]                      \n",
    ")\n",
    "YIELD\n",
    "  graphName, nodeProjection, nodeCount AS nodes, relationshipCount AS rels\n",
    "RETURN graphName, nodeProjection.Book AS bookProjection, nodes, rels\n",
    "\"\"\""
   ]
  },
  {
   "cell_type": "code",
   "execution_count": null,
   "metadata": {},
   "outputs": [],
   "source": [
    "\"\"\"\n",
    "CALL gds.knn.stream(\n",
    "  \"cf-projection\",\n",
    "  {   \n",
    "      nodeProperties: [\"embedding\"]\n",
    "  }\n",
    ") YIELD node1, node2, similarity\n",
    "RETURN gds.util.asNode(node1).id AS User1, gds.util.asNode(node2).id AS User2, similarity\n",
    "ORDER BY similarity DESCENDING, User1, User2\n",
    "\"\"\""
   ]
  },
  {
   "cell_type": "code",
   "execution_count": null,
   "metadata": {},
   "outputs": [],
   "source": [
    "\"\"\"\n",
    "CALL gds.knn.write('cf-projection', {\n",
    "    nodeProperties: [\"embedding\"],\n",
    "    writeRelationshipType: 'SIMILAR',\n",
    "    writeProperty: 'score',\n",
    "    topK: 10,\n",
    "    nodeProperties: ['embedding']\n",
    "})\n",
    "YIELD nodesCompared, relationshipsWritten\n",
    "\"\"\""
   ]
  },
  {
   "cell_type": "markdown",
   "metadata": {},
   "source": [
    "Get __similar users__, given a __user__"
   ]
  },
  {
   "cell_type": "code",
   "execution_count": 35,
   "metadata": {},
   "outputs": [
    {
     "data": {
      "text/html": [
       "<table><tr><th>ID</th><th>SCORE</th></tr><tr><td style=\"text-align:left\">6242c722-4e0e-4db3-80a3-a03b8b1cb2ba</td><td style=\"text-align:right\">0.9114094972610474</td></tr><tr><td style=\"text-align:left\">ac3188f8-03a7-4ab8-a906-ef4dae488f9d</td><td style=\"text-align:right\">0.908204197883606</td></tr><tr><td style=\"text-align:left\">a5ef5a66-8586-4ba1-90b7-72510d060630</td><td style=\"text-align:right\">0.903659999370575</td></tr><tr><td style=\"text-align:left\">954c1fbd-2790-4d65-9622-987511eb5c04</td><td style=\"text-align:right\">0.8815503120422363</td></tr><tr><td style=\"text-align:left\">4a8856f0-5d4e-4d17-b1e2-5c567b8ae139</td><td style=\"text-align:right\">0.8736069202423096</td></tr><tr><td style=\"text-align:left\">b8766815-c30c-416b-8ebb-eee37f22865e</td><td style=\"text-align:right\">0.8730874061584473</td></tr><tr><td style=\"text-align:left\">fb5bb7b3-1c75-4238-9c04-88e6ed443b3b</td><td style=\"text-align:right\">0.8679203987121582</td></tr><tr><td style=\"text-align:left\">2e6a8a5c-5a15-4912-a842-2daff9b99303</td><td style=\"text-align:right\">0.8675627708435059</td></tr><tr><td style=\"text-align:left\">da95806c-2365-4b69-b4f6-7a9b62e777b9</td><td style=\"text-align:right\">0.8667223453521729</td></tr><tr><td style=\"text-align:left\">bd22c54a-5139-4d4a-bab9-54f4e6855ecf</td><td style=\"text-align:right\">0.8662257790565491</td></tr></table>"
      ],
      "text/plain": [
       " ID                                   |              SCORE \n",
       "--------------------------------------|--------------------\n",
       " 6242c722-4e0e-4db3-80a3-a03b8b1cb2ba | 0.9114094972610474 \n",
       " ac3188f8-03a7-4ab8-a906-ef4dae488f9d |  0.908204197883606 \n",
       " a5ef5a66-8586-4ba1-90b7-72510d060630 |  0.903659999370575 \n",
       " 954c1fbd-2790-4d65-9622-987511eb5c04 | 0.8815503120422363 \n",
       " 4a8856f0-5d4e-4d17-b1e2-5c567b8ae139 | 0.8736069202423096 \n",
       " b8766815-c30c-416b-8ebb-eee37f22865e | 0.8730874061584473 \n",
       " fb5bb7b3-1c75-4238-9c04-88e6ed443b3b | 0.8679203987121582 \n",
       " 2e6a8a5c-5a15-4912-a842-2daff9b99303 | 0.8675627708435059 \n",
       " da95806c-2365-4b69-b4f6-7a9b62e777b9 | 0.8667223453521729 \n",
       " bd22c54a-5139-4d4a-bab9-54f4e6855ecf | 0.8662257790565491 "
      ]
     },
     "execution_count": 35,
     "metadata": {},
     "output_type": "execute_result"
    }
   ],
   "source": [
    "user_id = \"71e1599b-ab75-44c1-9667-1ca41fae6c06\"\n",
    "graph.run(\n",
    "            (\n",
    "            f\"MATCH (u1:User{{id: '{user_id}'}})-[s:SIMILAR]->(u2:User)\"\n",
    "            \" RETURN u2.id AS ID, s.score AS SCORE\"\n",
    "            \" ORDER BY SCORE DESC\"\n",
    "            )\n",
    "        ).to_table()"
   ]
  },
  {
   "cell_type": "markdown",
   "metadata": {},
   "source": [
    "Recommending movies from __similar users__, given a __user__ (collaborative filtering)"
   ]
  },
  {
   "cell_type": "code",
   "execution_count": 37,
   "metadata": {},
   "outputs": [
    {
     "data": {
      "text/html": [
       "<table><tr><th>ID</th><th>TITLE</th><th>SCORE</th></tr><tr><td style=\"text-align:left\">e8672bfe-d802-4580-96fa-dabe603a903d</td><td style=\"text-align:left\">Vergeef</td><td style=\"text-align:right\">4.54102098941803</td></tr><tr><td style=\"text-align:left\">5885bdd3-99f6-41c8-a9b1-c95af10b9f0f</td><td style=\"text-align:left\">The Cookie Carnival</td><td style=\"text-align:right\">4.407751560211182</td></tr><tr><td style=\"text-align:left\">a0f42a32-e313-46c4-b3ca-1015e8619eb2</td><td style=\"text-align:left\">The Fox in the Chicken Coop</td><td style=\"text-align:right\">4.368034601211548</td></tr><tr><td style=\"text-align:left\">3b60b1ee-ddd1-4b29-b1ef-9f011f7b6ea8</td><td style=\"text-align:left\">Extinct Pink</td><td style=\"text-align:right\">4.368034601211548</td></tr><tr><td style=\"text-align:left\">a184518b-d17a-4444-aa1e-2417b7975aa9</td><td style=\"text-align:left\">La Parmigiana</td><td style=\"text-align:right\">4.368034601211548</td></tr><tr><td style=\"text-align:left\">ebffde54-3815-4668-ac04-01fed3ff8861</td><td style=\"text-align:left\">The Unfaithfuls</td><td style=\"text-align:right\">4.368034601211548</td></tr><tr><td style=\"text-align:left\">8b380cee-cb7d-47af-ad85-f29dc6ee862f</td><td style=\"text-align:left\">The Castaways of Turtle Island</td><td style=\"text-align:right\">4.368034601211548</td></tr><tr><td style=\"text-align:left\">cd631d6c-4bb6-4fc4-afbf-c2d9bb771b0b</td><td style=\"text-align:left\">Ha! Ha! Ha!</td><td style=\"text-align:right\">4.368034601211548</td></tr><tr><td style=\"text-align:left\">0ae632c2-f7b2-4fe9-aa6b-e3e7afa92dbb</td><td style=\"text-align:left\">The Scavengers</td><td style=\"text-align:right\">4.368034601211548</td></tr><tr><td style=\"text-align:left\">6f555b3c-4783-48e3-bbf1-0a81e2ee0eb3</td><td style=\"text-align:left\">A Lustful Man</td><td style=\"text-align:right\">4.368034601211548</td></tr></table>"
      ],
      "text/plain": [
       " ID                                   | TITLE                          |             SCORE \n",
       "--------------------------------------|--------------------------------|-------------------\n",
       " e8672bfe-d802-4580-96fa-dabe603a903d | Vergeef                        |  4.54102098941803 \n",
       " 5885bdd3-99f6-41c8-a9b1-c95af10b9f0f | The Cookie Carnival            | 4.407751560211182 \n",
       " a0f42a32-e313-46c4-b3ca-1015e8619eb2 | The Fox in the Chicken Coop    | 4.368034601211548 \n",
       " 3b60b1ee-ddd1-4b29-b1ef-9f011f7b6ea8 | Extinct Pink                   | 4.368034601211548 \n",
       " a184518b-d17a-4444-aa1e-2417b7975aa9 | La Parmigiana                  | 4.368034601211548 \n",
       " ebffde54-3815-4668-ac04-01fed3ff8861 | The Unfaithfuls                | 4.368034601211548 \n",
       " 8b380cee-cb7d-47af-ad85-f29dc6ee862f | The Castaways of Turtle Island | 4.368034601211548 \n",
       " cd631d6c-4bb6-4fc4-afbf-c2d9bb771b0b | Ha! Ha! Ha!                    | 4.368034601211548 \n",
       " 0ae632c2-f7b2-4fe9-aa6b-e3e7afa92dbb | The Scavengers                 | 4.368034601211548 \n",
       " 6f555b3c-4783-48e3-bbf1-0a81e2ee0eb3 | A Lustful Man                  | 4.368034601211548 "
      ]
     },
     "execution_count": 37,
     "metadata": {},
     "output_type": "execute_result"
    }
   ],
   "source": [
    "user_id = \"71e1599b-ab75-44c1-9667-1ca41fae6c06\"\n",
    "\n",
    "graph.run(\n",
    "    (\n",
    "        f\"MATCH(u:User {{id: '{user_id}'}})-[:RATES]->(m:Movie) \"\n",
    "        \"WITH collect(m.id) AS watchedMoviesIds \"\n",
    "        f\"MATCH (u1:User{{id: '{user_id}'}})-[s:SIMILAR]->(u2:User)-[r:RATES]->(m:Movie) \"\n",
    "        \"WHERE NOT m.id IN watchedMoviesIds \"\n",
    "        \"RETURN m.id as ID, m.title as TITLE, r.score*s.score AS SCORE \"\n",
    "        \"ORDER BY SCORE DESC \"\n",
    "        \"LIMIT 10\"\n",
    "    )\n",
    ").to_table()\n"
   ]
  },
  {
   "cell_type": "markdown",
   "metadata": {},
   "source": [
    "#### __CONTENT BASED CF__"
   ]
  },
  {
   "cell_type": "code",
   "execution_count": null,
   "metadata": {},
   "outputs": [],
   "source": [
    "\"\"\"\n",
    "CALL gds.graph.project.cypher(\n",
    "  'movie_recommendations_cb',\n",
    "  'MATCH (n) WHERE n:Movie OR n:Genre OR n:Category RETURN id(n) AS id, labels(n) AS labels',\n",
    "  'MATCH (n)-[r:DESCRIBES|HAS_GENRE]-(m) RETURN id(n) AS source, id(m) AS target, type(r) AS type, coalesce(r.relevance, 1.0) AS relevance'    \n",
    ")   \n",
    "YIELD\n",
    "  graphName AS graph, nodeCount AS nodes, relationshipCount AS rels \n",
    "\"\"\"\n"
   ]
  },
  {
   "cell_type": "code",
   "execution_count": null,
   "metadata": {},
   "outputs": [],
   "source": [
    "\"\"\"\n",
    "CALL gds.fastRP.mutate('movie_recommendations_cb',\n",
    "  {\n",
    "    nodeLabels: [\"Movie\", \"Genre\", \"Category\"],\n",
    "    relationshipTypes: [\"HAS_GENRE\", \"DESCRIBES\"],\n",
    "    embeddingDimension: 256,\n",
    "    randomSeed: 42,\n",
    "    mutateProperty: 'embedding'    \n",
    "    relationshipWeightProperty: 'relevance',\n",
    "    \n",
    "  }\n",
    ")\n",
    "YIELD nodePropertiesWritten\n",
    "\"\"\"\n"
   ]
  },
  {
   "cell_type": "code",
   "execution_count": null,
   "metadata": {},
   "outputs": [],
   "source": [
    "\"\"\"\n",
    "CALL gds.graph.writeNodeProperties('movie_recommendations_cb', ['embedding'], ['Movie'])\n",
    "YIELD propertiesWritten\n",
    "\"\"\""
   ]
  },
  {
   "cell_type": "code",
   "execution_count": null,
   "metadata": {},
   "outputs": [],
   "source": [
    "\"\"\"\n",
    "CALL gds.graph.project(\n",
    "  'cb-projection',  \n",
    "  {\n",
    "      Movie : {properties : \"embedding\"}\n",
    "  },   \n",
    "    [\"*\"]                      \n",
    ")\n",
    "YIELD\n",
    "  graphName, nodeProjection, nodeCount AS nodes, relationshipCount AS rels\n",
    "RETURN graphName, nodeProjection.Book AS bookProjection, nodes, rels\n",
    "\"\"\""
   ]
  },
  {
   "cell_type": "code",
   "execution_count": null,
   "metadata": {},
   "outputs": [],
   "source": [
    "\"\"\"\n",
    "CALL gds.knn.stream(\n",
    "  \"cb-projection\",\n",
    "  {   \n",
    "      nodeProperties: [\"embedding\"]\n",
    "  }\n",
    ") YIELD node1, node2, similarity\n",
    "RETURN gds.util.asNode(node1).id AS Movie1, gds.util.asNode(node2).id AS Movie2, similarity\n",
    "ORDER BY similarity DESCENDING, Movie1, Movie2\n",
    "\"\"\""
   ]
  },
  {
   "cell_type": "code",
   "execution_count": null,
   "metadata": {},
   "outputs": [],
   "source": [
    "\"\"\"\n",
    "CALL gds.knn.write('cb-projection', {\n",
    "    nodeProperties: [\"embedding\"],\n",
    "    writeRelationshipType: 'SIMILAR',\n",
    "    writeProperty: 'score',\n",
    "    topK: 10,\n",
    "    nodeProperties: ['embedding']\n",
    "})\n",
    "YIELD nodesCompared, relationshipsWritten\n",
    "\"\"\""
   ]
  },
  {
   "cell_type": "markdown",
   "metadata": {},
   "source": [
    "Get __similar movies__, given a movie"
   ]
  },
  {
   "cell_type": "code",
   "execution_count": 11,
   "metadata": {},
   "outputs": [
    {
     "data": {
      "text/html": [
       "<table><tr><th>ID</th><th>TITLE</th><th>SIMILARITY</th></tr><tr><td style=\"text-align:left\">0dafe9c9-bf3f-4a5a-9bc2-aa9cb3419471</td><td style=\"text-align:left\">Death Rides a Horse (Da uomo a uomo)</td><td style=\"text-align:right\">0.9952797889709473</td></tr><tr><td style=\"text-align:left\">06054ec4-fdbd-49c4-8fbf-03acd206db3d</td><td style=\"text-align:left\">Parasite</td><td style=\"text-align:right\">0.9951488971710205</td></tr><tr><td style=\"text-align:left\">d5d4d59e-aadf-4d1b-995a-77d32b39d25f</td><td style=\"text-align:left\">Old Boy</td><td style=\"text-align:right\">0.9937421083450317</td></tr><tr><td style=\"text-align:left\">ab10a271-44a5-4352-b03d-f87b195cb60c</td><td style=\"text-align:left\">Ghost in the Shell Arise - Border 3: Ghost Tears</td><td style=\"text-align:right\">0.9936655163764954</td></tr><tr><td style=\"text-align:left\">836e7227-12b1-4215-a6e8-04d5a0e33500</td><td style=\"text-align:left\">Nightcrawler</td><td style=\"text-align:right\">0.9936624765396118</td></tr><tr><td style=\"text-align:left\">527f1a8d-fc9b-48bf-baee-81e6ab846b9c</td><td style=\"text-align:left\">Memento</td><td style=\"text-align:right\">0.9936578273773193</td></tr><tr><td style=\"text-align:left\">691551fb-650f-4b57-a114-8bd196c23352</td><td style=\"text-align:left\">Band Called Death, A</td><td style=\"text-align:right\">0.993545651435852</td></tr><tr><td style=\"text-align:left\">9501228f-c2f2-402b-9b6c-402ff7fd1f58</td><td style=\"text-align:left\">Pulp Fiction</td><td style=\"text-align:right\">0.9934476613998413</td></tr><tr><td style=\"text-align:left\">41b6d0e2-695d-4eb6-a813-6f67ba664fc9</td><td style=\"text-align:left\">Thing: Terror Takes Shape, The</td><td style=\"text-align:right\">0.9933952689170837</td></tr><tr><td style=\"text-align:left\">352a1319-54df-4b50-bbcd-c1a59b67a6f2</td><td style=\"text-align:left\">Blade Runner 2049</td><td style=\"text-align:right\">0.993350625038147</td></tr></table>"
      ],
      "text/plain": [
       " ID                                   | TITLE                                            |         SIMILARITY \n",
       "--------------------------------------|--------------------------------------------------|--------------------\n",
       " 0dafe9c9-bf3f-4a5a-9bc2-aa9cb3419471 | Death Rides a Horse (Da uomo a uomo)             | 0.9952797889709473 \n",
       " 06054ec4-fdbd-49c4-8fbf-03acd206db3d | Parasite                                         | 0.9951488971710205 \n",
       " d5d4d59e-aadf-4d1b-995a-77d32b39d25f | Old Boy                                          | 0.9937421083450317 \n",
       " ab10a271-44a5-4352-b03d-f87b195cb60c | Ghost in the Shell Arise - Border 3: Ghost Tears | 0.9936655163764954 \n",
       " 836e7227-12b1-4215-a6e8-04d5a0e33500 | Nightcrawler                                     | 0.9936624765396118 \n",
       " 527f1a8d-fc9b-48bf-baee-81e6ab846b9c | Memento                                          | 0.9936578273773193 \n",
       " 691551fb-650f-4b57-a114-8bd196c23352 | Band Called Death, A                             |  0.993545651435852 \n",
       " 9501228f-c2f2-402b-9b6c-402ff7fd1f58 | Pulp Fiction                                     | 0.9934476613998413 \n",
       " 41b6d0e2-695d-4eb6-a813-6f67ba664fc9 | Thing: Terror Takes Shape, The                   | 0.9933952689170837 \n",
       " 352a1319-54df-4b50-bbcd-c1a59b67a6f2 | Blade Runner 2049                                |  0.993350625038147 "
      ]
     },
     "execution_count": 11,
     "metadata": {},
     "output_type": "execute_result"
    }
   ],
   "source": [
    "movie_id = \"0b142bcb-3bcb-4ce7-943e-b73b16cf4f15\"\n",
    "graph.run(\n",
    "    (\n",
    "        f\"MATCH (m1:Movie{{id: '{movie_id}'}})-[s:SIMILAR]->(m2:Movie) \"\n",
    "        \"RETURN m2.id AS ID, m2.title AS TITLE, s.score AS SIMILARITY \"\n",
    "        \"ORDER BY SIMILARITY DESC \"\n",
    "    )\n",
    ").to_table()"
   ]
  },
  {
   "cell_type": "markdown",
   "metadata": {},
   "source": [
    " Recommending __similar movies__"
   ]
  },
  {
   "cell_type": "code",
   "execution_count": 6,
   "metadata": {},
   "outputs": [
    {
     "data": {
      "text/html": [
       "<table><tr><th>ID</th><th>TITLE</th><th>SCORE</th></tr><tr><td style=\"text-align:left\">7ce39604-1646-44c1-8ac6-8ea31b9a8084</td><td style=\"text-align:left\">Pianist, The</td><td style=\"text-align:right\">4.992698431015015</td></tr><tr><td style=\"text-align:left\">5f210d5a-f719-48b7-a388-de6e21b3d781</td><td style=\"text-align:left\">Blue Planet II</td><td style=\"text-align:right\">4.97689962387085</td></tr><tr><td style=\"text-align:left\">e79cfc9a-f881-42a3-9daf-84ef2c776f20</td><td style=\"text-align:left\">Misery</td><td style=\"text-align:right\">4.9765545129776</td></tr><tr><td style=\"text-align:left\">68b0af18-162a-4111-b282-60555570d482</td><td style=\"text-align:left\">Green Mile, The</td><td style=\"text-align:right\">4.9761658906936646</td></tr><tr><td style=\"text-align:left\">cbf03f03-037e-4b76-8fab-74a18f36c95a</td><td style=\"text-align:left\">Seven (a.k.a. Se7en)</td><td style=\"text-align:right\">4.975505769252777</td></tr><tr><td style=\"text-align:left\">81f3f3d5-8d2c-4b2c-8a4c-0b8c773750fa</td><td style=\"text-align:left\">12 Years a Slave</td><td style=\"text-align:right\">4.97529149055481</td></tr><tr><td style=\"text-align:left\">cff9c910-4b33-4461-80e0-69ec1bd3d91d</td><td style=\"text-align:left\">Dear Zachary: A Letter to a Son About His Father</td><td style=\"text-align:right\">4.9745529890060425</td></tr><tr><td style=\"text-align:left\">f8b83362-5876-46dc-9168-cac41bc65def</td><td style=\"text-align:left\">Cosmos: A Spacetime</td><td style=\"text-align:right\">4.9743252992630005</td></tr><tr><td style=\"text-align:left\">29aae105-8c06-465c-9588-f24c091e93f0</td><td style=\"text-align:left\">Runaway Jury</td><td style=\"text-align:right\">4.974263310432434</td></tr><tr><td style=\"text-align:left\">34eeffd8-d5a6-4ae6-a6d3-94064fbd5f48</td><td style=\"text-align:left\">Slumdog Millionaire</td><td style=\"text-align:right\">4.974065721035004</td></tr></table>"
      ],
      "text/plain": [
       " ID                                   | TITLE                                            |              SCORE \n",
       "--------------------------------------|--------------------------------------------------|--------------------\n",
       " 7ce39604-1646-44c1-8ac6-8ea31b9a8084 | Pianist, The                                     |  4.992698431015015 \n",
       " 5f210d5a-f719-48b7-a388-de6e21b3d781 | Blue Planet II                                   |   4.97689962387085 \n",
       " e79cfc9a-f881-42a3-9daf-84ef2c776f20 | Misery                                           |    4.9765545129776 \n",
       " 68b0af18-162a-4111-b282-60555570d482 | Green Mile, The                                  | 4.9761658906936646 \n",
       " cbf03f03-037e-4b76-8fab-74a18f36c95a | Seven (a.k.a. Se7en)                             |  4.975505769252777 \n",
       " 81f3f3d5-8d2c-4b2c-8a4c-0b8c773750fa | 12 Years a Slave                                 |   4.97529149055481 \n",
       " cff9c910-4b33-4461-80e0-69ec1bd3d91d | Dear Zachary: A Letter to a Son About His Father | 4.9745529890060425 \n",
       " f8b83362-5876-46dc-9168-cac41bc65def | Cosmos: A Spacetime                              | 4.9743252992630005 \n",
       " 29aae105-8c06-465c-9588-f24c091e93f0 | Runaway Jury                                     |  4.974263310432434 \n",
       " 34eeffd8-d5a6-4ae6-a6d3-94064fbd5f48 | Slumdog Millionaire                              |  4.974065721035004 "
      ]
     },
     "execution_count": 6,
     "metadata": {},
     "output_type": "execute_result"
    }
   ],
   "source": [
    "user_id = \"85cd6e98-63a7-4445-9342-85c2a5628be6\"\n",
    "\n",
    "graph.run(\n",
    "    (   f\"MATCH(u:User {{id: '{user_id}'}})-[:RATES]->(m:Movie) \"\n",
    "        \"WITH collect(m.id) AS watchedMoviesIds \"\n",
    "        f\"MATCH (u:User{{id: '{user_id}'}})-[r:RATES]->(m1:Movie)-[s:SIMILAR]->(m2:Movie) \"\n",
    "        \"WHERE NOT m2.id IN watchedMoviesIds \"\n",
    "        \"RETURN m2.id AS ID , m2.title AS TITLE, s.score*r.score AS SCORE \"\n",
    "        \"ORDER BY SCORE DESC \"\n",
    "        \"LIMIT 10\"\n",
    "    )\n",
    ").to_table()"
   ]
  }
 ],
 "metadata": {
  "kernelspec": {
   "display_name": "Python 3.10.4 ('venv': venv)",
   "language": "python",
   "name": "python3"
  },
  "language_info": {
   "codemirror_mode": {
    "name": "ipython",
    "version": 3
   },
   "file_extension": ".py",
   "mimetype": "text/x-python",
   "name": "python",
   "nbconvert_exporter": "python",
   "pygments_lexer": "ipython3",
   "version": "3.10.4"
  },
  "orig_nbformat": 4,
  "vscode": {
   "interpreter": {
    "hash": "56856fb219af371e327a0bd05d55f5c65d03579680a2662f718f0cbf637246ff"
   }
  }
 },
 "nbformat": 4,
 "nbformat_minor": 2
}
