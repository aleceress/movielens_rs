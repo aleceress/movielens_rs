{
 "cells": [
  {
   "cell_type": "code",
   "execution_count": 2,
   "metadata": {},
   "outputs": [],
   "source": [
    "from py2neo import *\n",
    "import pandas as pd\n",
    "import matplotlib.pyplot as plt\n",
    "import numpy as np"
   ]
  },
  {
   "cell_type": "code",
   "execution_count": 3,
   "metadata": {},
   "outputs": [],
   "source": [
    "graph = Graph(\"bolt://localhost:7687\", auth=(\"neo4j\", \"dbms\"))"
   ]
  },
  {
   "cell_type": "markdown",
   "metadata": {},
   "source": [
    "__ANALISI DEL DATASET__"
   ]
  },
  {
   "cell_type": "markdown",
   "metadata": {},
   "source": [
    "__Numero di film per utente__"
   ]
  },
  {
   "cell_type": "code",
   "execution_count": 22,
   "metadata": {},
   "outputs": [
    {
     "data": {
      "text/html": [
       "<div>\n",
       "<style scoped>\n",
       "    .dataframe tbody tr th:only-of-type {\n",
       "        vertical-align: middle;\n",
       "    }\n",
       "\n",
       "    .dataframe tbody tr th {\n",
       "        vertical-align: top;\n",
       "    }\n",
       "\n",
       "    .dataframe thead th {\n",
       "        text-align: right;\n",
       "    }\n",
       "</style>\n",
       "<table border=\"1\" class=\"dataframe\">\n",
       "  <thead>\n",
       "    <tr style=\"text-align: right;\">\n",
       "      <th></th>\n",
       "      <th>ID</th>\n",
       "      <th>COUNT</th>\n",
       "    </tr>\n",
       "  </thead>\n",
       "  <tbody>\n",
       "    <tr>\n",
       "      <th>31813</th>\n",
       "      <td>71e1599b-ab75-44c1-9667-1ca41fae6c06</td>\n",
       "      <td>32202</td>\n",
       "    </tr>\n",
       "    <tr>\n",
       "      <th>28693</th>\n",
       "      <td>220ac93a-1d6d-484f-9030-cfbda6ce1212</td>\n",
       "      <td>9178</td>\n",
       "    </tr>\n",
       "    <tr>\n",
       "      <th>9007</th>\n",
       "      <td>a5ef5a66-8586-4ba1-90b7-72510d060630</td>\n",
       "      <td>8913</td>\n",
       "    </tr>\n",
       "    <tr>\n",
       "      <th>45339</th>\n",
       "      <td>55e46524-926d-4343-8513-6b452794837c</td>\n",
       "      <td>7919</td>\n",
       "    </tr>\n",
       "    <tr>\n",
       "      <th>50246</th>\n",
       "      <td>79e268ec-800c-470e-8d55-f8cf7502ae6b</td>\n",
       "      <td>7488</td>\n",
       "    </tr>\n",
       "  </tbody>\n",
       "</table>\n",
       "</div>"
      ],
      "text/plain": [
       "                                         ID  COUNT\n",
       "31813  71e1599b-ab75-44c1-9667-1ca41fae6c06  32202\n",
       "28693  220ac93a-1d6d-484f-9030-cfbda6ce1212   9178\n",
       "9007   a5ef5a66-8586-4ba1-90b7-72510d060630   8913\n",
       "45339  55e46524-926d-4343-8513-6b452794837c   7919\n",
       "50246  79e268ec-800c-470e-8d55-f8cf7502ae6b   7488"
      ]
     },
     "execution_count": 22,
     "metadata": {},
     "output_type": "execute_result"
    }
   ],
   "source": [
    "movies_per_user_count = pd.DataFrame(\n",
    "    graph.run(\n",
    "        (\n",
    "            \"MATCH(u:User)-[h:RATES]->(m:Movie)\"\n",
    "            \"RETURN u.id as ID, count(*) AS COUNT\"\n",
    "        )\n",
    "    ).data()\n",
    ")\n",
    "\n",
    "movies_per_user_count.sort_values(by=\"COUNT\", ascending=False).head()"
   ]
  },
  {
   "cell_type": "markdown",
   "metadata": {},
   "source": [
    "Come possiamo vedere dalle statistiche sotto, il numero di film per utente è abbastanza stabile e contenuto (una __media__ di __153.8__ con __deviazione standard__ __268__). C'è un outlier (l'utente con 32.202 recensioni), ma per tutti gli altri ci si mantiene sotto il migliaio: nel complesso le query che da un singolo utente chiedono i film recensiti __non__ dovrebbero rappresentare un problema eccessivo in termini di tempo di computazione."
   ]
  },
  {
   "cell_type": "code",
   "execution_count": 8,
   "metadata": {},
   "outputs": [
    {
     "data": {
      "text/html": [
       "<div>\n",
       "<style scoped>\n",
       "    .dataframe tbody tr th:only-of-type {\n",
       "        vertical-align: middle;\n",
       "    }\n",
       "\n",
       "    .dataframe tbody tr th {\n",
       "        vertical-align: top;\n",
       "    }\n",
       "\n",
       "    .dataframe thead th {\n",
       "        text-align: right;\n",
       "    }\n",
       "</style>\n",
       "<table border=\"1\" class=\"dataframe\">\n",
       "  <thead>\n",
       "    <tr style=\"text-align: right;\">\n",
       "      <th></th>\n",
       "      <th>COUNT</th>\n",
       "    </tr>\n",
       "  </thead>\n",
       "  <tbody>\n",
       "    <tr>\n",
       "      <th>count</th>\n",
       "      <td>162541.000000</td>\n",
       "    </tr>\n",
       "    <tr>\n",
       "      <th>mean</th>\n",
       "      <td>153.807925</td>\n",
       "    </tr>\n",
       "    <tr>\n",
       "      <th>std</th>\n",
       "      <td>268.047589</td>\n",
       "    </tr>\n",
       "    <tr>\n",
       "      <th>min</th>\n",
       "      <td>20.000000</td>\n",
       "    </tr>\n",
       "    <tr>\n",
       "      <th>25%</th>\n",
       "      <td>36.000000</td>\n",
       "    </tr>\n",
       "    <tr>\n",
       "      <th>50%</th>\n",
       "      <td>71.000000</td>\n",
       "    </tr>\n",
       "    <tr>\n",
       "      <th>75%</th>\n",
       "      <td>162.000000</td>\n",
       "    </tr>\n",
       "    <tr>\n",
       "      <th>max</th>\n",
       "      <td>32202.000000</td>\n",
       "    </tr>\n",
       "  </tbody>\n",
       "</table>\n",
       "</div>"
      ],
      "text/plain": [
       "               COUNT\n",
       "count  162541.000000\n",
       "mean      153.807925\n",
       "std       268.047589\n",
       "min        20.000000\n",
       "25%        36.000000\n",
       "50%        71.000000\n",
       "75%       162.000000\n",
       "max     32202.000000"
      ]
     },
     "execution_count": 8,
     "metadata": {},
     "output_type": "execute_result"
    }
   ],
   "source": [
    "movies_per_user_count.sort_values(by=\"COUNT\", ascending=False).describe()"
   ]
  },
  {
   "cell_type": "markdown",
   "metadata": {},
   "source": [
    "__Numero di utenti per film__"
   ]
  },
  {
   "cell_type": "code",
   "execution_count": 24,
   "metadata": {},
   "outputs": [
    {
     "data": {
      "text/html": [
       "<div>\n",
       "<style scoped>\n",
       "    .dataframe tbody tr th:only-of-type {\n",
       "        vertical-align: middle;\n",
       "    }\n",
       "\n",
       "    .dataframe tbody tr th {\n",
       "        vertical-align: top;\n",
       "    }\n",
       "\n",
       "    .dataframe thead th {\n",
       "        text-align: right;\n",
       "    }\n",
       "</style>\n",
       "<table border=\"1\" class=\"dataframe\">\n",
       "  <thead>\n",
       "    <tr style=\"text-align: right;\">\n",
       "      <th></th>\n",
       "      <th>ID</th>\n",
       "      <th>TITLE</th>\n",
       "      <th>COUNT</th>\n",
       "    </tr>\n",
       "  </thead>\n",
       "  <tbody>\n",
       "    <tr>\n",
       "      <th>351</th>\n",
       "      <td>a251e83e-49f0-4a70-ba0c-0cc77ce23a8a</td>\n",
       "      <td>Forrest Gump</td>\n",
       "      <td>81491</td>\n",
       "    </tr>\n",
       "    <tr>\n",
       "      <th>314</th>\n",
       "      <td>b30eb0f4-790d-4ba0-8e7b-796f2b1d7534</td>\n",
       "      <td>Shawshank Redemption, The</td>\n",
       "      <td>81482</td>\n",
       "    </tr>\n",
       "    <tr>\n",
       "      <th>292</th>\n",
       "      <td>9501228f-c2f2-402b-9b6c-402ff7fd1f58</td>\n",
       "      <td>Pulp Fiction</td>\n",
       "      <td>79672</td>\n",
       "    </tr>\n",
       "    <tr>\n",
       "      <th>585</th>\n",
       "      <td>b71a26ee-41f5-4151-828e-fb54028c9201</td>\n",
       "      <td>Silence of the Lambs, The</td>\n",
       "      <td>74127</td>\n",
       "    </tr>\n",
       "    <tr>\n",
       "      <th>2480</th>\n",
       "      <td>333ea22d-cfd4-48a1-964e-45631cdc3cdd</td>\n",
       "      <td>Matrix, The</td>\n",
       "      <td>72674</td>\n",
       "    </tr>\n",
       "  </tbody>\n",
       "</table>\n",
       "</div>"
      ],
      "text/plain": [
       "                                        ID                      TITLE  COUNT\n",
       "351   a251e83e-49f0-4a70-ba0c-0cc77ce23a8a               Forrest Gump  81491\n",
       "314   b30eb0f4-790d-4ba0-8e7b-796f2b1d7534  Shawshank Redemption, The  81482\n",
       "292   9501228f-c2f2-402b-9b6c-402ff7fd1f58               Pulp Fiction  79672\n",
       "585   b71a26ee-41f5-4151-828e-fb54028c9201  Silence of the Lambs, The  74127\n",
       "2480  333ea22d-cfd4-48a1-964e-45631cdc3cdd                Matrix, The  72674"
      ]
     },
     "execution_count": 24,
     "metadata": {},
     "output_type": "execute_result"
    }
   ],
   "source": [
    "user_per_movie_count = pd.DataFrame(\n",
    "    graph.run(\n",
    "        (\n",
    "            \"MATCH(u:User)-[h:RATES]->(m:Movie)\"\n",
    "            \"RETURN m.id as ID, m.title as TITLE, count(*) AS COUNT\"\n",
    "        )\n",
    "    ).data()\n",
    ")\n",
    "\n",
    "user_per_movie_count.sort_values(by=\"COUNT\", ascending=False).head()"
   ]
  },
  {
   "cell_type": "markdown",
   "metadata": {},
   "source": [
    "Al contrario, il numero di utenti per film è molto più __instabile__, e tocca valori molto più __alti__ (per i film particolarmente __famosi__, as esempio _Forrest Gump_ e _Pulp function_). Ci aspettiamo, dunque, maggiori latenze per ricavare gli utenti che hanno visto alcuni film e le loro recensioni. "
   ]
  },
  {
   "cell_type": "code",
   "execution_count": 9,
   "metadata": {},
   "outputs": [
    {
     "data": {
      "text/html": [
       "<div>\n",
       "<style scoped>\n",
       "    .dataframe tbody tr th:only-of-type {\n",
       "        vertical-align: middle;\n",
       "    }\n",
       "\n",
       "    .dataframe tbody tr th {\n",
       "        vertical-align: top;\n",
       "    }\n",
       "\n",
       "    .dataframe thead th {\n",
       "        text-align: right;\n",
       "    }\n",
       "</style>\n",
       "<table border=\"1\" class=\"dataframe\">\n",
       "  <thead>\n",
       "    <tr style=\"text-align: right;\">\n",
       "      <th></th>\n",
       "      <th>COUNT</th>\n",
       "    </tr>\n",
       "  </thead>\n",
       "  <tbody>\n",
       "    <tr>\n",
       "      <th>count</th>\n",
       "      <td>59047.000000</td>\n",
       "    </tr>\n",
       "    <tr>\n",
       "      <th>mean</th>\n",
       "      <td>423.393128</td>\n",
       "    </tr>\n",
       "    <tr>\n",
       "      <th>std</th>\n",
       "      <td>2477.885797</td>\n",
       "    </tr>\n",
       "    <tr>\n",
       "      <th>min</th>\n",
       "      <td>1.000000</td>\n",
       "    </tr>\n",
       "    <tr>\n",
       "      <th>25%</th>\n",
       "      <td>2.000000</td>\n",
       "    </tr>\n",
       "    <tr>\n",
       "      <th>50%</th>\n",
       "      <td>6.000000</td>\n",
       "    </tr>\n",
       "    <tr>\n",
       "      <th>75%</th>\n",
       "      <td>36.000000</td>\n",
       "    </tr>\n",
       "    <tr>\n",
       "      <th>max</th>\n",
       "      <td>81491.000000</td>\n",
       "    </tr>\n",
       "  </tbody>\n",
       "</table>\n",
       "</div>"
      ],
      "text/plain": [
       "              COUNT\n",
       "count  59047.000000\n",
       "mean     423.393128\n",
       "std     2477.885797\n",
       "min        1.000000\n",
       "25%        2.000000\n",
       "50%        6.000000\n",
       "75%       36.000000\n",
       "max    81491.000000"
      ]
     },
     "execution_count": 9,
     "metadata": {},
     "output_type": "execute_result"
    }
   ],
   "source": [
    "user_per_movie_count.describe()"
   ]
  },
  {
   "cell_type": "markdown",
   "metadata": {},
   "source": [
    "__Numero di film per genere__"
   ]
  },
  {
   "cell_type": "markdown",
   "metadata": {},
   "source": [
    "Il numero di generi per film è naturalmente limitato dalla cardinalità dell'insieme dei generi, mentre il numero di film per genere viene rappresentato nel grafo sotto. Ci aspettiamo di poter avere tempi di latenza maggiori per i due generi più attribuiti, ovvero __Drama (7)__ e __Comedy (4)__."
   ]
  },
  {
   "cell_type": "code",
   "execution_count": 10,
   "metadata": {},
   "outputs": [
    {
     "data": {
      "text/plain": [
       "Text(0, 0.5, 'number of movies')"
      ]
     },
     "execution_count": 10,
     "metadata": {},
     "output_type": "execute_result"
    },
    {
     "data": {
      "image/png": "[encoded data removed]",
      "text/plain": [
       "<Figure size 432x288 with 1 Axes>"
      ]
     },
     "metadata": {
      "needs_background": "light"
     },
     "output_type": "display_data"
    }
   ],
   "source": [
    "genre_count = pd.DataFrame(\n",
    "    graph.run(\n",
    "        (\n",
    "            \"MATCH(g:Genre)<-[h:HAS_GENRE]-(m:Movie)\"\n",
    "            \"RETURN g.id as ID, g.name as GENRE, count(*) AS COUNT\"\n",
    "        )\n",
    "    ).data()\n",
    ")\n",
    "\n",
    "genre_count.sort_values(by=[\"COUNT\"], ascending=False).plot.bar()\n",
    "plt.xlabel(\"genres\")\n",
    "plt.ylabel(\"number of movies\")"
   ]
  },
  {
   "cell_type": "markdown",
   "metadata": {},
   "source": [
    "Nel dataset originale, ogni film è associato a ognuna delle __1128 categorie__ e ogni categoria è associata a ogni film, con un certo score. Per ragioni di computazione e di convenienza (ci interessano solo le categorie rilevanti), ho inserito nel database solamente le associazioni con score __score $\\geq$ 0.4__."
   ]
  },
  {
   "cell_type": "markdown",
   "metadata": {},
   "source": [
    "__Numero di film per categoria__"
   ]
  },
  {
   "cell_type": "code",
   "execution_count": 25,
   "metadata": {},
   "outputs": [
    {
     "data": {
      "text/html": [
       "<div>\n",
       "<style scoped>\n",
       "    .dataframe tbody tr th:only-of-type {\n",
       "        vertical-align: middle;\n",
       "    }\n",
       "\n",
       "    .dataframe tbody tr th {\n",
       "        vertical-align: top;\n",
       "    }\n",
       "\n",
       "    .dataframe thead th {\n",
       "        text-align: right;\n",
       "    }\n",
       "</style>\n",
       "<table border=\"1\" class=\"dataframe\">\n",
       "  <thead>\n",
       "    <tr style=\"text-align: right;\">\n",
       "      <th></th>\n",
       "      <th>CATEGORY</th>\n",
       "      <th>COUNT</th>\n",
       "    </tr>\n",
       "  </thead>\n",
       "  <tbody>\n",
       "    <tr>\n",
       "      <th>741</th>\n",
       "      <td>original</td>\n",
       "      <td>13816</td>\n",
       "    </tr>\n",
       "    <tr>\n",
       "      <th>187</th>\n",
       "      <td>catastrophe</td>\n",
       "      <td>13136</td>\n",
       "    </tr>\n",
       "    <tr>\n",
       "      <th>645</th>\n",
       "      <td>mentor</td>\n",
       "      <td>11850</td>\n",
       "    </tr>\n",
       "    <tr>\n",
       "      <th>467</th>\n",
       "      <td>great ending</td>\n",
       "      <td>9240</td>\n",
       "    </tr>\n",
       "    <tr>\n",
       "      <th>866</th>\n",
       "      <td>runaway</td>\n",
       "      <td>7961</td>\n",
       "    </tr>\n",
       "    <tr>\n",
       "      <th>...</th>\n",
       "      <td>...</td>\n",
       "      <td>...</td>\n",
       "    </tr>\n",
       "    <tr>\n",
       "      <th>1029</th>\n",
       "      <td>tolkien</td>\n",
       "      <td>8</td>\n",
       "    </tr>\n",
       "    <tr>\n",
       "      <th>488</th>\n",
       "      <td>hannibal lecter</td>\n",
       "      <td>7</td>\n",
       "    </tr>\n",
       "    <tr>\n",
       "      <th>391</th>\n",
       "      <td>figure skating</td>\n",
       "      <td>7</td>\n",
       "    </tr>\n",
       "    <tr>\n",
       "      <th>697</th>\n",
       "      <td>neil gaiman</td>\n",
       "      <td>4</td>\n",
       "    </tr>\n",
       "    <tr>\n",
       "      <th>338</th>\n",
       "      <td>easily confused with other movie(s) (title)</td>\n",
       "      <td>1</td>\n",
       "    </tr>\n",
       "  </tbody>\n",
       "</table>\n",
       "<p>1128 rows × 2 columns</p>\n",
       "</div>"
      ],
      "text/plain": [
       "                                         CATEGORY  COUNT\n",
       "741                                      original  13816\n",
       "187                                   catastrophe  13136\n",
       "645                                        mentor  11850\n",
       "467                                  great ending   9240\n",
       "866                                       runaway   7961\n",
       "...                                           ...    ...\n",
       "1029                                      tolkien      8\n",
       "488                               hannibal lecter      7\n",
       "391                                figure skating      7\n",
       "697                                   neil gaiman      4\n",
       "338   easily confused with other movie(s) (title)      1\n",
       "\n",
       "[1128 rows x 2 columns]"
      ]
     },
     "execution_count": 25,
     "metadata": {},
     "output_type": "execute_result"
    }
   ],
   "source": [
    "movies_per_category_count = pd.DataFrame(\n",
    "    graph.run(\n",
    "        (\n",
    "            \"MATCH(c:Category)-[d:DESCRIBES]->(m:Movie)\"\n",
    "            \"RETURN c.name as CATEGORY, count(*) AS COUNT\"\n",
    "        )\n",
    "    ).data()\n",
    ")\n",
    "\n",
    "movies_per_category_count.sort_values(by=[\"COUNT\"], ascending=False)"
   ]
  },
  {
   "cell_type": "markdown",
   "metadata": {},
   "source": [
    "__Numero categorie per film__"
   ]
  },
  {
   "cell_type": "markdown",
   "metadata": {},
   "source": [
    "Anche se filtrare le categorie porta a una notevole riduzione delle associazioni di film per categoria, possiamo vedere che (similmente a quanto avveniva per i generi) il numero di categorie per film è notevolmente minore del numero di film per categoria."
   ]
  },
  {
   "cell_type": "code",
   "execution_count": 26,
   "metadata": {},
   "outputs": [
    {
     "data": {
      "text/html": [
       "<div>\n",
       "<style scoped>\n",
       "    .dataframe tbody tr th:only-of-type {\n",
       "        vertical-align: middle;\n",
       "    }\n",
       "\n",
       "    .dataframe tbody tr th {\n",
       "        vertical-align: top;\n",
       "    }\n",
       "\n",
       "    .dataframe thead th {\n",
       "        text-align: right;\n",
       "    }\n",
       "</style>\n",
       "<table border=\"1\" class=\"dataframe\">\n",
       "  <thead>\n",
       "    <tr style=\"text-align: right;\">\n",
       "      <th></th>\n",
       "      <th>ID</th>\n",
       "      <th>TITLE</th>\n",
       "      <th>COUNT</th>\n",
       "    </tr>\n",
       "  </thead>\n",
       "  <tbody>\n",
       "    <tr>\n",
       "      <th>2075</th>\n",
       "      <td>76ee3232-bd79-4095-adf4-4276bc97dbe3</td>\n",
       "      <td>Passchendaele</td>\n",
       "      <td>421</td>\n",
       "    </tr>\n",
       "    <tr>\n",
       "      <th>127</th>\n",
       "      <td>86615b9f-1c50-4107-aadb-1044d81be60c</td>\n",
       "      <td>Welcome to Dongmakgol</td>\n",
       "      <td>358</td>\n",
       "    </tr>\n",
       "    <tr>\n",
       "      <th>430</th>\n",
       "      <td>fba6b450-87c2-4db8-ab35-b2d5c186ca73</td>\n",
       "      <td>Drunk Stoned Brilliant Dead: The Story of the ...</td>\n",
       "      <td>333</td>\n",
       "    </tr>\n",
       "    <tr>\n",
       "      <th>1979</th>\n",
       "      <td>691551fb-650f-4b57-a114-8bd196c23352</td>\n",
       "      <td>Band Called Death, A</td>\n",
       "      <td>332</td>\n",
       "    </tr>\n",
       "    <tr>\n",
       "      <th>2252</th>\n",
       "      <td>0dafe9c9-bf3f-4a5a-9bc2-aa9cb3419471</td>\n",
       "      <td>Death Rides a Horse (Da uomo a uomo)</td>\n",
       "      <td>328</td>\n",
       "    </tr>\n",
       "    <tr>\n",
       "      <th>...</th>\n",
       "      <td>...</td>\n",
       "      <td>...</td>\n",
       "      <td>...</td>\n",
       "    </tr>\n",
       "    <tr>\n",
       "      <th>13720</th>\n",
       "      <td>b7efb1ed-2327-449a-9c23-ebcb3d3400ad</td>\n",
       "      <td>Alarmist, The (a.k.a. Life During Wartime)</td>\n",
       "      <td>7</td>\n",
       "    </tr>\n",
       "    <tr>\n",
       "      <th>13668</th>\n",
       "      <td>6f4eefa5-8245-41fe-b98d-dad030a4c501</td>\n",
       "      <td>Happy Together</td>\n",
       "      <td>6</td>\n",
       "    </tr>\n",
       "    <tr>\n",
       "      <th>13542</th>\n",
       "      <td>f9367d77-c40b-4215-87fd-51ae401b0086</td>\n",
       "      <td>Home Again</td>\n",
       "      <td>6</td>\n",
       "    </tr>\n",
       "    <tr>\n",
       "      <th>13614</th>\n",
       "      <td>fb0502fc-cb07-4e14-b0da-e9fdcdd9cb02</td>\n",
       "      <td>House of Angels (Änglagård)</td>\n",
       "      <td>4</td>\n",
       "    </tr>\n",
       "    <tr>\n",
       "      <th>13815</th>\n",
       "      <td>154da881-d12b-4a47-9477-0e81c136f3a6</td>\n",
       "      <td>The Longest Week</td>\n",
       "      <td>3</td>\n",
       "    </tr>\n",
       "  </tbody>\n",
       "</table>\n",
       "<p>13816 rows × 3 columns</p>\n",
       "</div>"
      ],
      "text/plain": [
       "                                         ID  \\\n",
       "2075   76ee3232-bd79-4095-adf4-4276bc97dbe3   \n",
       "127    86615b9f-1c50-4107-aadb-1044d81be60c   \n",
       "430    fba6b450-87c2-4db8-ab35-b2d5c186ca73   \n",
       "1979   691551fb-650f-4b57-a114-8bd196c23352   \n",
       "2252   0dafe9c9-bf3f-4a5a-9bc2-aa9cb3419471   \n",
       "...                                     ...   \n",
       "13720  b7efb1ed-2327-449a-9c23-ebcb3d3400ad   \n",
       "13668  6f4eefa5-8245-41fe-b98d-dad030a4c501   \n",
       "13542  f9367d77-c40b-4215-87fd-51ae401b0086   \n",
       "13614  fb0502fc-cb07-4e14-b0da-e9fdcdd9cb02   \n",
       "13815  154da881-d12b-4a47-9477-0e81c136f3a6   \n",
       "\n",
       "                                                   TITLE  COUNT  \n",
       "2075                                       Passchendaele    421  \n",
       "127                                Welcome to Dongmakgol    358  \n",
       "430    Drunk Stoned Brilliant Dead: The Story of the ...    333  \n",
       "1979                                Band Called Death, A    332  \n",
       "2252                Death Rides a Horse (Da uomo a uomo)    328  \n",
       "...                                                  ...    ...  \n",
       "13720         Alarmist, The (a.k.a. Life During Wartime)      7  \n",
       "13668                                     Happy Together      6  \n",
       "13542                                         Home Again      6  \n",
       "13614                        House of Angels (Änglagård)      4  \n",
       "13815                                   The Longest Week      3  \n",
       "\n",
       "[13816 rows x 3 columns]"
      ]
     },
     "execution_count": 26,
     "metadata": {},
     "output_type": "execute_result"
    }
   ],
   "source": [
    "categories_per_movie_count = pd.DataFrame(\n",
    "    graph.run(\n",
    "        (\n",
    "            \"MATCH(c:Category)-[d:DESCRIBES]->(m:Movie)\"\n",
    "            \"RETURN m.id as ID, m.title as TITLE, count(*) AS COUNT\"\n",
    "        )\n",
    "    ).data()\n",
    ")\n",
    "\n",
    "categories_per_movie_count.sort_values(by=[\"COUNT\"], ascending=False)"
   ]
  },
  {
   "cell_type": "markdown",
   "metadata": {},
   "source": [
    "__Query 1__: Ottienere i __top k generi__, dato un utente."
   ]
  },
  {
   "cell_type": "code",
   "execution_count": 8,
   "metadata": {},
   "outputs": [
    {
     "data": {
      "text/html": [
       "<table><tr><th>GENRE</th><th>AVG_SCORE</th></tr><tr><td style=\"text-align:left\">Western</td><td style=\"text-align:right\">3.6</td></tr><tr><td style=\"text-align:left\">Romance</td><td style=\"text-align:right\">3.0526315789473686</td></tr><tr><td style=\"text-align:left\">Thriller</td><td style=\"text-align:right\">2.9333333333333327</td></tr><tr><td style=\"text-align:left\">Sci-Fi</td><td style=\"text-align:right\">2.9183673469387754</td></tr><tr><td style=\"text-align:left\">Comedy</td><td style=\"text-align:right\">2.899999999999999</td></tr></table>"
      ],
      "text/plain": [
       " GENRE    |          AVG_SCORE \n",
       "----------|--------------------\n",
       " Western  |                3.6 \n",
       " Romance  | 3.0526315789473686 \n",
       " Thriller | 2.9333333333333327 \n",
       " Sci-Fi   | 2.9183673469387754 \n",
       " Comedy   |  2.899999999999999 "
      ]
     },
     "execution_count": 8,
     "metadata": {},
     "output_type": "execute_result"
    }
   ],
   "source": [
    "user_id = \"d34f66d3-8ee4-40bf-a37e-7856ec99ef83\"\n",
    "graph.run(\n",
    "    (\n",
    "        \"MATCH(u:User)-[r:RATES]->(m:Movie)-[h:HAS_GENRE]->(g:Genre)\"\n",
    "        f\"WHERE u.id = '{user_id}'\"\n",
    "        \"RETURN g.name as GENRE, AVG(r.score) as AVG_SCORE \"\n",
    "        \"ORDER BY AVG_SCORE DESC \"\n",
    "        \"LIMIT 5\"\n",
    "    )\n",
    ").to_table()\n"
   ]
  },
  {
   "cell_type": "code",
   "execution_count": 11,
   "metadata": {},
   "outputs": [
    {
     "data": {
      "text/html": [
       "<table><tr><th>GENRE</th><th>SCORE</th></tr><tr><td style=\"text-align:left\">Drama</td><td style=\"text-align:right\">82425</td></tr><tr><td style=\"text-align:left\">Comedy</td><td style=\"text-align:right\">39615</td></tr><tr><td style=\"text-align:left\">Thriller</td><td style=\"text-align:right\">21940</td></tr><tr><td style=\"text-align:left\">Romance</td><td style=\"text-align:right\">21290</td></tr><tr><td style=\"text-align:left\">Action</td><td style=\"text-align:right\">15950</td></tr></table>"
      ],
      "text/plain": [
       " GENRE    | SCORE \n",
       "----------|-------\n",
       " Drama    | 82425 \n",
       " Comedy   | 39615 \n",
       " Thriller | 21940 \n",
       " Romance  | 21290 \n",
       " Action   | 15950 "
      ]
     },
     "execution_count": 11,
     "metadata": {},
     "output_type": "execute_result"
    }
   ],
   "source": [
    "user_id = \"71e1599b-ab75-44c1-9667-1ca41fae6c06\"\n",
    "graph.run(\n",
    "    (\n",
    "        \"MATCH(u:User)-[r:RATES]->(m:Movie)-[h:HAS_GENRE]->(g:Genre) \"\n",
    "        f\"WHERE u.id = '{user_id}' \"\n",
    "        \"RETURN g.name as GENRE, MAX(r.score)*COUNT(r.score) as SCORE \"\n",
    "        \"ORDER BY SCORE DESC \"\n",
    "        \"LIMIT 5\"\n",
    "    )\n",
    ").to_table()\n"
   ]
  },
  {
   "cell_type": "markdown",
   "metadata": {},
   "source": [
    "Get __top k categories__, given a __user__ "
   ]
  },
  {
   "cell_type": "code",
   "execution_count": 12,
   "metadata": {},
   "outputs": [
    {
     "data": {
      "text/html": [
       "<table><tr><th>CATEGORY</th><th>SCORE</th></tr><tr><td style=\"text-align:left\">emma watson</td><td style=\"text-align:right\">0.958657894736842</td></tr><tr><td style=\"text-align:left\">beatles</td><td style=\"text-align:right\">0.9568392857142857</td></tr><tr><td style=\"text-align:left\">star trek</td><td style=\"text-align:right\">0.9426666666666667</td></tr><tr><td style=\"text-align:left\">batman</td><td style=\"text-align:right\">0.9395625</td></tr><tr><td style=\"text-align:left\">vampires</td><td style=\"text-align:right\">0.9223377192982455</td></tr></table>"
      ],
      "text/plain": [
       " CATEGORY    |              SCORE \n",
       "-------------|--------------------\n",
       " emma watson |  0.958657894736842 \n",
       " beatles     | 0.9568392857142857 \n",
       " star trek   | 0.9426666666666667 \n",
       " batman      |          0.9395625 \n",
       " vampires    | 0.9223377192982455 "
      ]
     },
     "execution_count": 12,
     "metadata": {},
     "output_type": "execute_result"
    }
   ],
   "source": [
    "graph.run(\n",
    "    (\n",
    "        \"MATCH(u:User)-[r:RATES]->(m:Movie)<-[d:DESCRIBES]-(c:Category) \"\n",
    "        f\"WHERE u.id = '{user_id}' \"\n",
    "        \"RETURN c.name as CATEGORY, AVG(d.relevance) as SCORE \"\n",
    "        \"ORDER BY SCORE DESC \"\n",
    "        \"LIMIT 5\"\n",
    "    )\n",
    ").to_table()\n"
   ]
  },
  {
   "cell_type": "markdown",
   "metadata": {},
   "source": [
    "Get __top k movies__, given a __genre__ (movies related to a genre, group by movie, get avg rating)\n",
    "Better if we take the maximum count, MOST POPULAR"
   ]
  },
  {
   "cell_type": "code",
   "execution_count": 16,
   "metadata": {},
   "outputs": [
    {
     "data": {
      "text/html": [
       "<table><tr><th>MOVIE</th><th>SCORE</th></tr><tr><td style=\"text-align:left\">Pericles, Prince of Tyre</td><td style=\"text-align:right\">5.0</td></tr><tr><td style=\"text-align:left\">The Ultimate Legacy</td><td style=\"text-align:right\">5.0</td></tr><tr><td style=\"text-align:left\">Claire Darling</td><td style=\"text-align:right\">5.0</td></tr><tr><td style=\"text-align:left\">Kabir Singh</td><td style=\"text-align:right\">5.0</td></tr><tr><td style=\"text-align:left\">All&#039;s Well That Ends Well: Shakespeare&#039;s Globe Theatre</td><td style=\"text-align:right\">5.0</td></tr><tr><td style=\"text-align:left\">The Merchant of Venice</td><td style=\"text-align:right\">5.0</td></tr><tr><td style=\"text-align:left\">The Parting Glass</td><td style=\"text-align:right\">5.0</td></tr><tr><td style=\"text-align:left\">Pariyerum Perumal</td><td style=\"text-align:right\">5.0</td></tr><tr><td style=\"text-align:left\">Zana</td><td style=\"text-align:right\">5.0</td></tr><tr><td style=\"text-align:left\">Oblivion Verses</td><td style=\"text-align:right\">5.0</td></tr></table>"
      ],
      "text/plain": [
       " MOVIE                                                  | SCORE \n",
       "--------------------------------------------------------|-------\n",
       " Pericles, Prince of Tyre                               |   5.0 \n",
       " The Ultimate Legacy                                    |   5.0 \n",
       " Claire Darling                                         |   5.0 \n",
       " Kabir Singh                                            |   5.0 \n",
       " All's Well That Ends Well: Shakespeare's Globe Theatre |   5.0 \n",
       " The Merchant of Venice                                 |   5.0 \n",
       " The Parting Glass                                      |   5.0 \n",
       " Pariyerum Perumal                                      |   5.0 \n",
       " Zana                                                   |   5.0 \n",
       " Oblivion Verses                                        |   5.0 "
      ]
     },
     "execution_count": 16,
     "metadata": {},
     "output_type": "execute_result"
    }
   ],
   "source": [
    "genre_id = \"6c14fe55-df99-44bb-9bcd-00c8ebf448aa\"\n",
    "graph.run(\n",
    "    (\n",
    "        f\"MATCH(g:Genre{{id: '{genre_id}'}})<-[h:HAS_GENRE]-(m:Movie)<-[r:RATES]-(u:User)\"\n",
    "        \"RETURN m.title as MOVIE, avg(r.score) as SCORE \"\n",
    "        \"ORDER BY SCORE DESC \"\n",
    "        \"LIMIT 10\"\n",
    "    )\n",
    ").to_table()\n"
   ]
  },
  {
   "cell_type": "code",
   "execution_count": 31,
   "metadata": {},
   "outputs": [
    {
     "data": {
      "text/html": [
       "<table><tr><th>MOVIE</th><th>SCORE</th></tr><tr><td style=\"text-align:left\">Pulp Fiction</td><td style=\"text-align:right\">79672</td></tr><tr><td style=\"text-align:left\">Silence of the Lambs, The</td><td style=\"text-align:right\">74127</td></tr><tr><td style=\"text-align:left\">Matrix, The</td><td style=\"text-align:right\">72674</td></tr><tr><td style=\"text-align:left\">Jurassic Park</td><td style=\"text-align:right\">64144</td></tr><tr><td style=\"text-align:left\">Fight Club</td><td style=\"text-align:right\">58773</td></tr></table>"
      ],
      "text/plain": [
       " MOVIE                     | SCORE \n",
       "---------------------------|-------\n",
       " Pulp Fiction              | 79672 \n",
       " Silence of the Lambs, The | 74127 \n",
       " Matrix, The               | 72674 \n",
       " Jurassic Park             | 64144 \n",
       " Fight Club                | 58773 "
      ]
     },
     "execution_count": 31,
     "metadata": {},
     "output_type": "execute_result"
    }
   ],
   "source": [
    "genre_id = \"c16401e5-a5e0-466d-aaef-898e442c3f45\"\t\n",
    "\n",
    "graph.run(\n",
    "    (\n",
    "        f\"MATCH(g:Genre{{id: '{genre_id}' }})<-[h:HAS_GENRE]-(m:Movie)<-[r:RATES]-(u:User) \"\n",
    "        \"RETURN m.title as MOVIE, count(r.score) as SCORE \"\n",
    "        \"ORDER BY SCORE DESC \"\n",
    "        \"LIMIT 5\"\n",
    "    )\n",
    ").to_table()\n"
   ]
  },
  {
   "cell_type": "code",
   "execution_count": 32,
   "metadata": {},
   "outputs": [
    {
     "data": {
      "text/html": [
       "<table><tr><th>MOVIE</th><th>SCORE</th></tr><tr><td style=\"text-align:left\">Pulp Fiction</td><td style=\"text-align:right\">398360</td></tr><tr><td style=\"text-align:left\">Silence of the Lambs, The</td><td style=\"text-align:right\">370635</td></tr><tr><td style=\"text-align:left\">Matrix, The</td><td style=\"text-align:right\">363370</td></tr><tr><td style=\"text-align:left\">Jurassic Park</td><td style=\"text-align:right\">320720</td></tr><tr><td style=\"text-align:left\">Fight Club</td><td style=\"text-align:right\">293865</td></tr></table>"
      ],
      "text/plain": [
       " MOVIE                     |  SCORE \n",
       "---------------------------|--------\n",
       " Pulp Fiction              | 398360 \n",
       " Silence of the Lambs, The | 370635 \n",
       " Matrix, The               | 363370 \n",
       " Jurassic Park             | 320720 \n",
       " Fight Club                | 293865 "
      ]
     },
     "execution_count": 32,
     "metadata": {},
     "output_type": "execute_result"
    }
   ],
   "source": [
    "graph.run(\n",
    "    (\n",
    "        f\"MATCH(g:Genre{{id: '{genre_id}'}})<-[h:HAS_GENRE]-(m:Movie)<-[r:RATES]-(u:User)\"\n",
    "        \"RETURN m.title as MOVIE, count(r.score)*max(r.score) as SCORE \"\n",
    "        \"ORDER BY SCORE DESC \"\n",
    "        \"LIMIT 5\"\n",
    "    )\n",
    ").to_table()\n"
   ]
  },
  {
   "cell_type": "code",
   "execution_count": 21,
   "metadata": {},
   "outputs": [
    {
     "data": {
      "text/html": [
       "<div>\n",
       "<style scoped>\n",
       "    .dataframe tbody tr th:only-of-type {\n",
       "        vertical-align: middle;\n",
       "    }\n",
       "\n",
       "    .dataframe tbody tr th {\n",
       "        vertical-align: top;\n",
       "    }\n",
       "\n",
       "    .dataframe thead th {\n",
       "        text-align: right;\n",
       "    }\n",
       "</style>\n",
       "<table border=\"1\" class=\"dataframe\">\n",
       "  <thead>\n",
       "    <tr style=\"text-align: right;\">\n",
       "      <th></th>\n",
       "      <th>ID</th>\n",
       "      <th>GENRE</th>\n",
       "      <th>COUNT</th>\n",
       "    </tr>\n",
       "  </thead>\n",
       "  <tbody>\n",
       "    <tr>\n",
       "      <th>7</th>\n",
       "      <td>6c14fe55-df99-44bb-9bcd-00c8ebf448aa</td>\n",
       "      <td>Drama</td>\n",
       "      <td>25606</td>\n",
       "    </tr>\n",
       "    <tr>\n",
       "      <th>4</th>\n",
       "      <td>a53a6565-a03b-4774-a1ae-1e8c02ed0445</td>\n",
       "      <td>Comedy</td>\n",
       "      <td>16870</td>\n",
       "    </tr>\n",
       "    <tr>\n",
       "      <th>15</th>\n",
       "      <td>c16401e5-a5e0-466d-aaef-898e442c3f45</td>\n",
       "      <td>Thriller</td>\n",
       "      <td>8654</td>\n",
       "    </tr>\n",
       "    <tr>\n",
       "      <th>13</th>\n",
       "      <td>3e9de744-f6f7-4e3c-a749-109be8526c11</td>\n",
       "      <td>Romance</td>\n",
       "      <td>7719</td>\n",
       "    </tr>\n",
       "    <tr>\n",
       "      <th>0</th>\n",
       "      <td>2159b9b5-f29f-4002-815a-2c78223aa206</td>\n",
       "      <td>Action</td>\n",
       "      <td>7348</td>\n",
       "    </tr>\n",
       "    <tr>\n",
       "      <th>10</th>\n",
       "      <td>bf37e52e-9ca9-437a-b6c9-d0049230380e</td>\n",
       "      <td>Horror</td>\n",
       "      <td>5989</td>\n",
       "    </tr>\n",
       "    <tr>\n",
       "      <th>6</th>\n",
       "      <td>c5f2b690-f5d9-42f9-850f-458f9abe0a6e</td>\n",
       "      <td>Documentary</td>\n",
       "      <td>5605</td>\n",
       "    </tr>\n",
       "    <tr>\n",
       "      <th>5</th>\n",
       "      <td>7c12d04f-7404-4fd1-8223-293898565985</td>\n",
       "      <td>Crime</td>\n",
       "      <td>5319</td>\n",
       "    </tr>\n",
       "    <tr>\n",
       "      <th>1</th>\n",
       "      <td>98a3b7e1-ed0f-4e9d-abb2-7f47e235c143</td>\n",
       "      <td>Adventure</td>\n",
       "      <td>4145</td>\n",
       "    </tr>\n",
       "    <tr>\n",
       "      <th>14</th>\n",
       "      <td>281500a9-4d3a-47ee-9e6f-ef376dece738</td>\n",
       "      <td>Sci-Fi</td>\n",
       "      <td>3595</td>\n",
       "    </tr>\n",
       "    <tr>\n",
       "      <th>3</th>\n",
       "      <td>32d13ca1-ee87-4331-b5cb-7a4e5f0a8b54</td>\n",
       "      <td>Children</td>\n",
       "      <td>2935</td>\n",
       "    </tr>\n",
       "    <tr>\n",
       "      <th>2</th>\n",
       "      <td>758d2749-1b92-4390-95e4-74d594d753c7</td>\n",
       "      <td>Animation</td>\n",
       "      <td>2929</td>\n",
       "    </tr>\n",
       "    <tr>\n",
       "      <th>12</th>\n",
       "      <td>640707a0-0d92-4aa3-b120-6849baffdd4d</td>\n",
       "      <td>Mystery</td>\n",
       "      <td>2925</td>\n",
       "    </tr>\n",
       "    <tr>\n",
       "      <th>8</th>\n",
       "      <td>187fc13e-8389-4db1-9d16-62bbbfb84887</td>\n",
       "      <td>Fantasy</td>\n",
       "      <td>2731</td>\n",
       "    </tr>\n",
       "    <tr>\n",
       "      <th>16</th>\n",
       "      <td>90317674-2bd5-4247-bddb-81e466bf3521</td>\n",
       "      <td>War</td>\n",
       "      <td>1874</td>\n",
       "    </tr>\n",
       "    <tr>\n",
       "      <th>17</th>\n",
       "      <td>2299fd2f-12b6-43fb-9c8d-2560b92c7fc5</td>\n",
       "      <td>Western</td>\n",
       "      <td>1399</td>\n",
       "    </tr>\n",
       "    <tr>\n",
       "      <th>11</th>\n",
       "      <td>de5177ca-96fe-4fb2-9b06-d2660ea892b7</td>\n",
       "      <td>Musical</td>\n",
       "      <td>1054</td>\n",
       "    </tr>\n",
       "    <tr>\n",
       "      <th>9</th>\n",
       "      <td>7965ac18-16bb-415e-9e72-f8343b8e57bd</td>\n",
       "      <td>Film-Noir</td>\n",
       "      <td>353</td>\n",
       "    </tr>\n",
       "    <tr>\n",
       "      <th>18</th>\n",
       "      <td>3a8f0c36-98e2-4fca-9a5d-9cb7b0661c54</td>\n",
       "      <td>IMAX</td>\n",
       "      <td>195</td>\n",
       "    </tr>\n",
       "  </tbody>\n",
       "</table>\n",
       "</div>"
      ],
      "text/plain": [
       "                                      ID        GENRE  COUNT\n",
       "7   6c14fe55-df99-44bb-9bcd-00c8ebf448aa        Drama  25606\n",
       "4   a53a6565-a03b-4774-a1ae-1e8c02ed0445       Comedy  16870\n",
       "15  c16401e5-a5e0-466d-aaef-898e442c3f45     Thriller   8654\n",
       "13  3e9de744-f6f7-4e3c-a749-109be8526c11      Romance   7719\n",
       "0   2159b9b5-f29f-4002-815a-2c78223aa206       Action   7348\n",
       "10  bf37e52e-9ca9-437a-b6c9-d0049230380e       Horror   5989\n",
       "6   c5f2b690-f5d9-42f9-850f-458f9abe0a6e  Documentary   5605\n",
       "5   7c12d04f-7404-4fd1-8223-293898565985        Crime   5319\n",
       "1   98a3b7e1-ed0f-4e9d-abb2-7f47e235c143    Adventure   4145\n",
       "14  281500a9-4d3a-47ee-9e6f-ef376dece738       Sci-Fi   3595\n",
       "3   32d13ca1-ee87-4331-b5cb-7a4e5f0a8b54     Children   2935\n",
       "2   758d2749-1b92-4390-95e4-74d594d753c7    Animation   2929\n",
       "12  640707a0-0d92-4aa3-b120-6849baffdd4d      Mystery   2925\n",
       "8   187fc13e-8389-4db1-9d16-62bbbfb84887      Fantasy   2731\n",
       "16  90317674-2bd5-4247-bddb-81e466bf3521          War   1874\n",
       "17  2299fd2f-12b6-43fb-9c8d-2560b92c7fc5      Western   1399\n",
       "11  de5177ca-96fe-4fb2-9b06-d2660ea892b7      Musical   1054\n",
       "9   7965ac18-16bb-415e-9e72-f8343b8e57bd    Film-Noir    353\n",
       "18  3a8f0c36-98e2-4fca-9a5d-9cb7b0661c54         IMAX    195"
      ]
     },
     "execution_count": 21,
     "metadata": {},
     "output_type": "execute_result"
    }
   ],
   "source": [
    "genre_count.sort_values(by=[\"COUNT\"], ascending=False)"
   ]
  },
  {
   "cell_type": "markdown",
   "metadata": {},
   "source": [
    "Get __top k movies__, given a __category__ (highest scores with category)"
   ]
  },
  {
   "cell_type": "code",
   "execution_count": 9,
   "metadata": {},
   "outputs": [
    {
     "data": {
      "text/html": [
       "<div>\n",
       "<style scoped>\n",
       "    .dataframe tbody tr th:only-of-type {\n",
       "        vertical-align: middle;\n",
       "    }\n",
       "\n",
       "    .dataframe tbody tr th {\n",
       "        vertical-align: top;\n",
       "    }\n",
       "\n",
       "    .dataframe thead th {\n",
       "        text-align: right;\n",
       "    }\n",
       "</style>\n",
       "<table border=\"1\" class=\"dataframe\">\n",
       "  <thead>\n",
       "    <tr style=\"text-align: right;\">\n",
       "      <th></th>\n",
       "      <th>COUNT</th>\n",
       "    </tr>\n",
       "  </thead>\n",
       "  <tbody>\n",
       "    <tr>\n",
       "      <th>count</th>\n",
       "      <td>1128.000000</td>\n",
       "    </tr>\n",
       "    <tr>\n",
       "      <th>mean</th>\n",
       "      <td>853.917553</td>\n",
       "    </tr>\n",
       "    <tr>\n",
       "      <th>std</th>\n",
       "      <td>1296.324007</td>\n",
       "    </tr>\n",
       "    <tr>\n",
       "      <th>min</th>\n",
       "      <td>1.000000</td>\n",
       "    </tr>\n",
       "    <tr>\n",
       "      <th>25%</th>\n",
       "      <td>140.750000</td>\n",
       "    </tr>\n",
       "    <tr>\n",
       "      <th>50%</th>\n",
       "      <td>375.000000</td>\n",
       "    </tr>\n",
       "    <tr>\n",
       "      <th>75%</th>\n",
       "      <td>1028.750000</td>\n",
       "    </tr>\n",
       "    <tr>\n",
       "      <th>max</th>\n",
       "      <td>13816.000000</td>\n",
       "    </tr>\n",
       "  </tbody>\n",
       "</table>\n",
       "</div>"
      ],
      "text/plain": [
       "              COUNT\n",
       "count   1128.000000\n",
       "mean     853.917553\n",
       "std     1296.324007\n",
       "min        1.000000\n",
       "25%      140.750000\n",
       "50%      375.000000\n",
       "75%     1028.750000\n",
       "max    13816.000000"
      ]
     },
     "execution_count": 9,
     "metadata": {},
     "output_type": "execute_result"
    }
   ],
   "source": [
    "category_count = pd.DataFrame(\n",
    "    graph.run(\n",
    "        (\n",
    "            \"MATCH(c:Category)-[d:DESCRIBES]-(m:Movie)\"\n",
    "            \"RETURN c.id as ID, c.name as CATEGORY, count(*) AS COUNT\"\n",
    "        )\n",
    "    ).data()\n",
    ")\n",
    "\n",
    "category_count.sort_values(by=[\"COUNT\"], ascending=False).describe()\n"
   ]
  },
  {
   "cell_type": "code",
   "execution_count": 34,
   "metadata": {},
   "outputs": [
    {
     "data": {
      "text/html": [
       "<table><tr><th>MOVIE</th><th>RELEVANCE</th></tr><tr><td style=\"text-align:left\">Hulk</td><td style=\"text-align:right\">0.999</td></tr><tr><td style=\"text-align:left\">Punisher, The</td><td style=\"text-align:right\">0.99875</td></tr><tr><td style=\"text-align:left\">Hellboy</td><td style=\"text-align:right\">0.9985</td></tr><tr><td style=\"text-align:left\">Fantastic Four</td><td style=\"text-align:right\">0.9985</td></tr><tr><td style=\"text-align:left\">X-Men</td><td style=\"text-align:right\">0.9985</td></tr></table>"
      ],
      "text/plain": [
       " MOVIE          | RELEVANCE \n",
       "----------------|-----------\n",
       " Hulk           |     0.999 \n",
       " Punisher, The  |   0.99875 \n",
       " Hellboy        |    0.9985 \n",
       " Fantastic Four |    0.9985 \n",
       " X-Men          |    0.9985 "
      ]
     },
     "execution_count": 34,
     "metadata": {},
     "output_type": "execute_result"
    }
   ],
   "source": [
    "category_id = \"8b94d2c2-822e-4d3b-87f3-a58cc21c9f21\"\n",
    "graph.run(\n",
    "    (\n",
    "        f\"MATCH(c:Category{{id: '{category_id}'}})-[d:DESCRIBES]->(m:Movie)\"\n",
    "        \"RETURN m.title as MOVIE, d.relevance as RELEVANCE \"\n",
    "        \"ORDER BY RELEVANCE DESC \"\n",
    "        \"LIMIT 5\"\n",
    "    )\n",
    ").to_table()\n"
   ]
  },
  {
   "cell_type": "markdown",
   "metadata": {},
   "source": [
    "COULD PROBABILY USE THE PRE-COMPUTED PATTERN or REDUCE CATEGORIES UNDER A THRESHOLD"
   ]
  },
  {
   "cell_type": "code",
   "execution_count": 36,
   "metadata": {},
   "outputs": [
    {
     "data": {
      "text/html": [
       "<table><tr><th>MOVIE</th><th>POP_RELEVANCE</th></tr><tr><td style=\"text-align:left\">Three Colors: Red (Trois couleurs: Rouge)</td><td style=\"text-align:right\">3.9300705582317903</td></tr><tr><td style=\"text-align:left\">Persona</td><td style=\"text-align:right\">3.8807999999999976</td></tr><tr><td style=\"text-align:left\">Vertigo</td><td style=\"text-align:right\">3.877729444967085</td></tr><tr><td style=\"text-align:left\">Third Man, The</td><td style=\"text-align:right\">3.8737327981651486</td></tr><tr><td style=\"text-align:left\">Conversation, The</td><td style=\"text-align:right\">3.840662105495477</td></tr></table>"
      ],
      "text/plain": [
       " MOVIE                                     |      POP_RELEVANCE \n",
       "-------------------------------------------|--------------------\n",
       " Three Colors: Red (Trois couleurs: Rouge) | 3.9300705582317903 \n",
       " Persona                                   | 3.8807999999999976 \n",
       " Vertigo                                   |  3.877729444967085 \n",
       " Third Man, The                            | 3.8737327981651486 \n",
       " Conversation, The                         |  3.840662105495477 "
      ]
     },
     "execution_count": 36,
     "metadata": {},
     "output_type": "execute_result"
    }
   ],
   "source": [
    "category_id = \"8a1b259b-dbd5-493b-aead-68714b73a7db\"\n",
    "graph.run(\n",
    "    (\n",
    "        f\"MATCH(c:Category{{id: '{category_id}'}})-[d:DESCRIBES]->(m:Movie)<-[r:RATES]-(u:User)\"\n",
    "        \"RETURN m.title as MOVIE, d.relevance*avg(r.score) as POP_RELEVANCE \"\n",
    "        \"ORDER BY POP_RELEVANCE DESC \"\n",
    "        \"LIMIT 5\"\n",
    "    )\n",
    ").to_table()\n"
   ]
  },
  {
   "cell_type": "markdown",
   "metadata": {},
   "source": [
    "#### __USER BASED CF__"
   ]
  },
  {
   "cell_type": "code",
   "execution_count": 37,
   "metadata": {},
   "outputs": [
    {
     "data": {
      "text/plain": [
       "'\\nCALL gds.graph.project(\\n  \\'movies_recommendations\\',                                \\n  [\"User\", \"Movie\", \"Genre\", \"Category\"],  \\n  [\"HAS_GENRE\",                  \\n  {\\n    RATES : { properties: \"score\"}\\n  },\\n  {\\n    DESCRIBES : { properties: \"relevance\"}\\n  }\\n  ]                       \\n)\\nYIELD\\n  graphName, nodeProjection, nodeCount AS nodes, relationshipCount AS rels\\nRETURN graphName, nodeProjection.Book AS bookProjection, nodes, rels\\n'"
      ]
     },
     "execution_count": 37,
     "metadata": {},
     "output_type": "execute_result"
    }
   ],
   "source": [
    "\"\"\"\n",
    "CALL gds.graph.project(\n",
    "  'movie_recommendations_cf',                                \n",
    "  [\"User\", \"Movie\", \"Genre\", \"Category\"],  \n",
    "  [\n",
    "  {\n",
    "    HAS_GENRE: {orientation: \"UNDIRECTED\"}\n",
    "  },\n",
    "  {\n",
    "    RATES : { properties: \"score\", orientation: \"UNDIRECTED\"}\n",
    "  },\n",
    "  {\n",
    "    DESCRIBES : { properties: \"relevance\", orientation: \"UNDIRECTED\"}\n",
    "  } \n",
    "  ]                \n",
    ")\n",
    "YIELD\n",
    "  graphName, nodeProjection, nodeCount AS nodes, relationshipCount AS rels\n",
    "RETURN graphName, nodeProjection.Book AS bookProjection, nodes, rels\n",
    "\"\"\""
   ]
  },
  {
   "cell_type": "code",
   "execution_count": null,
   "metadata": {},
   "outputs": [],
   "source": [
    "\"\"\"\n",
    "CALL gds.fastRP.mutate('movie_recommendations_cf',\n",
    "  {\n",
    "    nodeLabels: [\"User\", \"Movie\"],\n",
    "    relationshipTypes: [\"RATES\"],\n",
    "    embeddingDimension: 256,\n",
    "    relationshipWeightProperty: 'score',\n",
    "    randomSeed: 42,\n",
    "    mutateProperty: 'embedding'    \n",
    "  }\n",
    ")\n",
    "YIELD nodePropertiesWritten\n",
    "\"\"\"\n"
   ]
  },
  {
   "cell_type": "code",
   "execution_count": null,
   "metadata": {},
   "outputs": [],
   "source": [
    "\"\"\"\n",
    "CALL gds.fastRP.stream('movie_recommendations_cf',\n",
    "  {\n",
    "    nodeLabels: [\"User\", \"Movie\"],\n",
    "    relationshipTypes: [\"RATES\"],\n",
    "    embeddingDimension: 256,\n",
    "    relationshipWeightProperty: 'score',\n",
    "    randomSeed: 42\n",
    "  }\n",
    ")\n",
    "YIELD nodeId, embedding\n",
    "\"\"\""
   ]
  },
  {
   "cell_type": "code",
   "execution_count": null,
   "metadata": {},
   "outputs": [],
   "source": [
    "\"\"\"\n",
    "CALL gds.graph.writeNodeProperties('movie_recommendations_cf', ['embedding'], ['User'])\n",
    "YIELD propertiesWritten\n",
    "\"\"\""
   ]
  },
  {
   "cell_type": "code",
   "execution_count": null,
   "metadata": {},
   "outputs": [],
   "source": [
    "\"\"\"\n",
    "CALL gds.graph.project(\n",
    "  'cf-projection',  \n",
    "  {\n",
    "      User: {properties : \"embedding\"}\n",
    "  },   \n",
    "    [\"*\"]                      \n",
    ")\n",
    "YIELD\n",
    "  graphName, nodeProjection, nodeCount AS nodes, relationshipCount AS rels\n",
    "RETURN graphName, nodeProjection.Book AS bookProjection, nodes, rels\n",
    "\"\"\""
   ]
  },
  {
   "cell_type": "code",
   "execution_count": null,
   "metadata": {},
   "outputs": [],
   "source": [
    "\"\"\"\n",
    "CALL gds.knn.stream(\n",
    "  \"cf-projection\",\n",
    "  {   \n",
    "      nodeProperties: [\"embedding\"]\n",
    "  }\n",
    ") YIELD node1, node2, similarity\n",
    "RETURN gds.util.asNode(node1).id AS User1, gds.util.asNode(node2).id AS User2, similarity\n",
    "ORDER BY similarity DESCENDING, User1, User2\n",
    "\"\"\""
   ]
  },
  {
   "cell_type": "code",
   "execution_count": null,
   "metadata": {},
   "outputs": [],
   "source": [
    "\"\"\"\n",
    "CALL gds.knn.write('cf-projection', {\n",
    "    nodeProperties: [\"embedding\"],\n",
    "    writeRelationshipType: 'SIMILAR',\n",
    "    writeProperty: 'score',\n",
    "    topK: 10,\n",
    "    nodeProperties: ['embedding']\n",
    "})\n",
    "YIELD nodesCompared, relationshipsWritten\n",
    "\"\"\""
   ]
  },
  {
   "cell_type": "markdown",
   "metadata": {},
   "source": [
    "Get __similar users__, given a __user__"
   ]
  },
  {
   "cell_type": "code",
   "execution_count": 35,
   "metadata": {},
   "outputs": [
    {
     "data": {
      "text/html": [
       "<table><tr><th>ID</th><th>SCORE</th></tr><tr><td style=\"text-align:left\">6242c722-4e0e-4db3-80a3-a03b8b1cb2ba</td><td style=\"text-align:right\">0.9114094972610474</td></tr><tr><td style=\"text-align:left\">ac3188f8-03a7-4ab8-a906-ef4dae488f9d</td><td style=\"text-align:right\">0.908204197883606</td></tr><tr><td style=\"text-align:left\">a5ef5a66-8586-4ba1-90b7-72510d060630</td><td style=\"text-align:right\">0.903659999370575</td></tr><tr><td style=\"text-align:left\">954c1fbd-2790-4d65-9622-987511eb5c04</td><td style=\"text-align:right\">0.8815503120422363</td></tr><tr><td style=\"text-align:left\">4a8856f0-5d4e-4d17-b1e2-5c567b8ae139</td><td style=\"text-align:right\">0.8736069202423096</td></tr><tr><td style=\"text-align:left\">b8766815-c30c-416b-8ebb-eee37f22865e</td><td style=\"text-align:right\">0.8730874061584473</td></tr><tr><td style=\"text-align:left\">fb5bb7b3-1c75-4238-9c04-88e6ed443b3b</td><td style=\"text-align:right\">0.8679203987121582</td></tr><tr><td style=\"text-align:left\">2e6a8a5c-5a15-4912-a842-2daff9b99303</td><td style=\"text-align:right\">0.8675627708435059</td></tr><tr><td style=\"text-align:left\">da95806c-2365-4b69-b4f6-7a9b62e777b9</td><td style=\"text-align:right\">0.8667223453521729</td></tr><tr><td style=\"text-align:left\">bd22c54a-5139-4d4a-bab9-54f4e6855ecf</td><td style=\"text-align:right\">0.8662257790565491</td></tr></table>"
      ],
      "text/plain": [
       " ID                                   |              SCORE \n",
       "--------------------------------------|--------------------\n",
       " 6242c722-4e0e-4db3-80a3-a03b8b1cb2ba | 0.9114094972610474 \n",
       " ac3188f8-03a7-4ab8-a906-ef4dae488f9d |  0.908204197883606 \n",
       " a5ef5a66-8586-4ba1-90b7-72510d060630 |  0.903659999370575 \n",
       " 954c1fbd-2790-4d65-9622-987511eb5c04 | 0.8815503120422363 \n",
       " 4a8856f0-5d4e-4d17-b1e2-5c567b8ae139 | 0.8736069202423096 \n",
       " b8766815-c30c-416b-8ebb-eee37f22865e | 0.8730874061584473 \n",
       " fb5bb7b3-1c75-4238-9c04-88e6ed443b3b | 0.8679203987121582 \n",
       " 2e6a8a5c-5a15-4912-a842-2daff9b99303 | 0.8675627708435059 \n",
       " da95806c-2365-4b69-b4f6-7a9b62e777b9 | 0.8667223453521729 \n",
       " bd22c54a-5139-4d4a-bab9-54f4e6855ecf | 0.8662257790565491 "
      ]
     },
     "execution_count": 35,
     "metadata": {},
     "output_type": "execute_result"
    }
   ],
   "source": [
    "user_id = \"71e1599b-ab75-44c1-9667-1ca41fae6c06\"\n",
    "graph.run(\n",
    "            (\n",
    "            f\"MATCH (u1:User{{id: '{user_id}'}})-[s:SIMILAR]->(u2:User)\"\n",
    "            \" RETURN u2.id AS ID, s.score AS SCORE\"\n",
    "            \" ORDER BY SCORE DESC\"\n",
    "            )\n",
    "        ).to_table()"
   ]
  },
  {
   "cell_type": "markdown",
   "metadata": {},
   "source": [
    "Recommending movies from __similar users__, given a __user__ (collaborative filtering)"
   ]
  },
  {
   "cell_type": "code",
   "execution_count": 37,
   "metadata": {},
   "outputs": [
    {
     "data": {
      "text/html": [
       "<table><tr><th>ID</th><th>TITLE</th><th>SCORE</th></tr><tr><td style=\"text-align:left\">e8672bfe-d802-4580-96fa-dabe603a903d</td><td style=\"text-align:left\">Vergeef</td><td style=\"text-align:right\">4.54102098941803</td></tr><tr><td style=\"text-align:left\">5885bdd3-99f6-41c8-a9b1-c95af10b9f0f</td><td style=\"text-align:left\">The Cookie Carnival</td><td style=\"text-align:right\">4.407751560211182</td></tr><tr><td style=\"text-align:left\">a0f42a32-e313-46c4-b3ca-1015e8619eb2</td><td style=\"text-align:left\">The Fox in the Chicken Coop</td><td style=\"text-align:right\">4.368034601211548</td></tr><tr><td style=\"text-align:left\">3b60b1ee-ddd1-4b29-b1ef-9f011f7b6ea8</td><td style=\"text-align:left\">Extinct Pink</td><td style=\"text-align:right\">4.368034601211548</td></tr><tr><td style=\"text-align:left\">a184518b-d17a-4444-aa1e-2417b7975aa9</td><td style=\"text-align:left\">La Parmigiana</td><td style=\"text-align:right\">4.368034601211548</td></tr><tr><td style=\"text-align:left\">ebffde54-3815-4668-ac04-01fed3ff8861</td><td style=\"text-align:left\">The Unfaithfuls</td><td style=\"text-align:right\">4.368034601211548</td></tr><tr><td style=\"text-align:left\">8b380cee-cb7d-47af-ad85-f29dc6ee862f</td><td style=\"text-align:left\">The Castaways of Turtle Island</td><td style=\"text-align:right\">4.368034601211548</td></tr><tr><td style=\"text-align:left\">cd631d6c-4bb6-4fc4-afbf-c2d9bb771b0b</td><td style=\"text-align:left\">Ha! Ha! Ha!</td><td style=\"text-align:right\">4.368034601211548</td></tr><tr><td style=\"text-align:left\">0ae632c2-f7b2-4fe9-aa6b-e3e7afa92dbb</td><td style=\"text-align:left\">The Scavengers</td><td style=\"text-align:right\">4.368034601211548</td></tr><tr><td style=\"text-align:left\">6f555b3c-4783-48e3-bbf1-0a81e2ee0eb3</td><td style=\"text-align:left\">A Lustful Man</td><td style=\"text-align:right\">4.368034601211548</td></tr></table>"
      ],
      "text/plain": [
       " ID                                   | TITLE                          |             SCORE \n",
       "--------------------------------------|--------------------------------|-------------------\n",
       " e8672bfe-d802-4580-96fa-dabe603a903d | Vergeef                        |  4.54102098941803 \n",
       " 5885bdd3-99f6-41c8-a9b1-c95af10b9f0f | The Cookie Carnival            | 4.407751560211182 \n",
       " a0f42a32-e313-46c4-b3ca-1015e8619eb2 | The Fox in the Chicken Coop    | 4.368034601211548 \n",
       " 3b60b1ee-ddd1-4b29-b1ef-9f011f7b6ea8 | Extinct Pink                   | 4.368034601211548 \n",
       " a184518b-d17a-4444-aa1e-2417b7975aa9 | La Parmigiana                  | 4.368034601211548 \n",
       " ebffde54-3815-4668-ac04-01fed3ff8861 | The Unfaithfuls                | 4.368034601211548 \n",
       " 8b380cee-cb7d-47af-ad85-f29dc6ee862f | The Castaways of Turtle Island | 4.368034601211548 \n",
       " cd631d6c-4bb6-4fc4-afbf-c2d9bb771b0b | Ha! Ha! Ha!                    | 4.368034601211548 \n",
       " 0ae632c2-f7b2-4fe9-aa6b-e3e7afa92dbb | The Scavengers                 | 4.368034601211548 \n",
       " 6f555b3c-4783-48e3-bbf1-0a81e2ee0eb3 | A Lustful Man                  | 4.368034601211548 "
      ]
     },
     "execution_count": 37,
     "metadata": {},
     "output_type": "execute_result"
    }
   ],
   "source": [
    "user_id = \"71e1599b-ab75-44c1-9667-1ca41fae6c06\"\n",
    "\n",
    "graph.run(\n",
    "    (\n",
    "        f\"MATCH(u:User {{id: '{user_id}'}})-[:RATES]->(m:Movie) \"\n",
    "        \"WITH collect(m.id) AS watchedMoviesIds \"\n",
    "        f\"MATCH (u1:User{{id: '{user_id}'}})-[s:SIMILAR]->(u2:User)-[r:RATES]->(m:Movie) \"\n",
    "        \"WHERE NOT m.id IN watchedMoviesIds \"\n",
    "        \"RETURN m.id as ID, m.title as TITLE, r.score*s.score AS SCORE \"\n",
    "        \"ORDER BY SCORE DESC \"\n",
    "        \"LIMIT 10\"\n",
    "    )\n",
    ").to_table()\n"
   ]
  },
  {
   "cell_type": "markdown",
   "metadata": {},
   "source": [
    "#### __CONTENT BASED CF__"
   ]
  },
  {
   "cell_type": "code",
   "execution_count": null,
   "metadata": {},
   "outputs": [],
   "source": [
    "\"\"\"\n",
    "CALL gds.graph.project.cypher(\n",
    "  'movie_recommendations_cb',\n",
    "  'MATCH (n) WHERE n:Movie OR n:Genre OR n:Category RETURN id(n) AS id, labels(n) AS labels',\n",
    "  'MATCH (n)-[r:DESCRIBES|HAS_GENRE]-(m) RETURN id(n) AS source, id(m) AS target, type(r) AS type, coalesce(r.relevance, 1.0) AS relevance'    \n",
    ")   \n",
    "YIELD\n",
    "  graphName AS graph, nodeCount AS nodes, relationshipCount AS rels \n",
    "\"\"\"\n"
   ]
  },
  {
   "cell_type": "code",
   "execution_count": null,
   "metadata": {},
   "outputs": [],
   "source": [
    "\"\"\"\n",
    "CALL gds.fastRP.mutate('movie_recommendations_cb',\n",
    "  {\n",
    "    nodeLabels: [\"Movie\", \"Genre\", \"Category\"],\n",
    "    relationshipTypes: [\"HAS_GENRE\", \"DESCRIBES\"],\n",
    "    embeddingDimension: 256,\n",
    "    randomSeed: 42,\n",
    "    mutateProperty: 'embedding'    \n",
    "    relationshipWeightProperty: 'relevance',\n",
    "    \n",
    "  }\n",
    ")\n",
    "YIELD nodePropertiesWritten\n",
    "\"\"\"\n"
   ]
  },
  {
   "cell_type": "code",
   "execution_count": null,
   "metadata": {},
   "outputs": [],
   "source": [
    "\"\"\"\n",
    "CALL gds.graph.writeNodeProperties('movie_recommendations_cb', ['embedding'], ['Movie'])\n",
    "YIELD propertiesWritten\n",
    "\"\"\""
   ]
  },
  {
   "cell_type": "code",
   "execution_count": null,
   "metadata": {},
   "outputs": [],
   "source": [
    "\"\"\"\n",
    "CALL gds.graph.project(\n",
    "  'cb-projection',  \n",
    "  {\n",
    "      Movie : {properties : \"embedding\"}\n",
    "  },   \n",
    "    [\"*\"]                      \n",
    ")\n",
    "YIELD\n",
    "  graphName, nodeProjection, nodeCount AS nodes, relationshipCount AS rels\n",
    "RETURN graphName, nodeProjection.Book AS bookProjection, nodes, rels\n",
    "\"\"\""
   ]
  },
  {
   "cell_type": "code",
   "execution_count": null,
   "metadata": {},
   "outputs": [],
   "source": [
    "\"\"\"\n",
    "CALL gds.knn.stream(\n",
    "  \"cb-projection\",\n",
    "  {   \n",
    "      nodeProperties: [\"embedding\"]\n",
    "  }\n",
    ") YIELD node1, node2, similarity\n",
    "RETURN gds.util.asNode(node1).id AS Movie1, gds.util.asNode(node2).id AS Movie2, similarity\n",
    "ORDER BY similarity DESCENDING, Movie1, Movie2\n",
    "\"\"\""
   ]
  },
  {
   "cell_type": "code",
   "execution_count": null,
   "metadata": {},
   "outputs": [],
   "source": [
    "\"\"\"\n",
    "CALL gds.knn.write('cb-projection', {\n",
    "    nodeProperties: [\"embedding\"],\n",
    "    writeRelationshipType: 'SIMILAR',\n",
    "    writeProperty: 'score',\n",
    "    topK: 10,\n",
    "    nodeProperties: ['embedding']\n",
    "})\n",
    "YIELD nodesCompared, relationshipsWritten\n",
    "\"\"\""
   ]
  },
  {
   "cell_type": "markdown",
   "metadata": {},
   "source": [
    "Get __similar movies__, given a movie"
   ]
  },
  {
   "cell_type": "code",
   "execution_count": 11,
   "metadata": {},
   "outputs": [
    {
     "data": {
      "text/html": [
       "<table><tr><th>ID</th><th>TITLE</th><th>SIMILARITY</th></tr><tr><td style=\"text-align:left\">0dafe9c9-bf3f-4a5a-9bc2-aa9cb3419471</td><td style=\"text-align:left\">Death Rides a Horse (Da uomo a uomo)</td><td style=\"text-align:right\">0.9952797889709473</td></tr><tr><td style=\"text-align:left\">06054ec4-fdbd-49c4-8fbf-03acd206db3d</td><td style=\"text-align:left\">Parasite</td><td style=\"text-align:right\">0.9951488971710205</td></tr><tr><td style=\"text-align:left\">d5d4d59e-aadf-4d1b-995a-77d32b39d25f</td><td style=\"text-align:left\">Old Boy</td><td style=\"text-align:right\">0.9937421083450317</td></tr><tr><td style=\"text-align:left\">ab10a271-44a5-4352-b03d-f87b195cb60c</td><td style=\"text-align:left\">Ghost in the Shell Arise - Border 3: Ghost Tears</td><td style=\"text-align:right\">0.9936655163764954</td></tr><tr><td style=\"text-align:left\">836e7227-12b1-4215-a6e8-04d5a0e33500</td><td style=\"text-align:left\">Nightcrawler</td><td style=\"text-align:right\">0.9936624765396118</td></tr><tr><td style=\"text-align:left\">527f1a8d-fc9b-48bf-baee-81e6ab846b9c</td><td style=\"text-align:left\">Memento</td><td style=\"text-align:right\">0.9936578273773193</td></tr><tr><td style=\"text-align:left\">691551fb-650f-4b57-a114-8bd196c23352</td><td style=\"text-align:left\">Band Called Death, A</td><td style=\"text-align:right\">0.993545651435852</td></tr><tr><td style=\"text-align:left\">9501228f-c2f2-402b-9b6c-402ff7fd1f58</td><td style=\"text-align:left\">Pulp Fiction</td><td style=\"text-align:right\">0.9934476613998413</td></tr><tr><td style=\"text-align:left\">41b6d0e2-695d-4eb6-a813-6f67ba664fc9</td><td style=\"text-align:left\">Thing: Terror Takes Shape, The</td><td style=\"text-align:right\">0.9933952689170837</td></tr><tr><td style=\"text-align:left\">352a1319-54df-4b50-bbcd-c1a59b67a6f2</td><td style=\"text-align:left\">Blade Runner 2049</td><td style=\"text-align:right\">0.993350625038147</td></tr></table>"
      ],
      "text/plain": [
       " ID                                   | TITLE                                            |         SIMILARITY \n",
       "--------------------------------------|--------------------------------------------------|--------------------\n",
       " 0dafe9c9-bf3f-4a5a-9bc2-aa9cb3419471 | Death Rides a Horse (Da uomo a uomo)             | 0.9952797889709473 \n",
       " 06054ec4-fdbd-49c4-8fbf-03acd206db3d | Parasite                                         | 0.9951488971710205 \n",
       " d5d4d59e-aadf-4d1b-995a-77d32b39d25f | Old Boy                                          | 0.9937421083450317 \n",
       " ab10a271-44a5-4352-b03d-f87b195cb60c | Ghost in the Shell Arise - Border 3: Ghost Tears | 0.9936655163764954 \n",
       " 836e7227-12b1-4215-a6e8-04d5a0e33500 | Nightcrawler                                     | 0.9936624765396118 \n",
       " 527f1a8d-fc9b-48bf-baee-81e6ab846b9c | Memento                                          | 0.9936578273773193 \n",
       " 691551fb-650f-4b57-a114-8bd196c23352 | Band Called Death, A                             |  0.993545651435852 \n",
       " 9501228f-c2f2-402b-9b6c-402ff7fd1f58 | Pulp Fiction                                     | 0.9934476613998413 \n",
       " 41b6d0e2-695d-4eb6-a813-6f67ba664fc9 | Thing: Terror Takes Shape, The                   | 0.9933952689170837 \n",
       " 352a1319-54df-4b50-bbcd-c1a59b67a6f2 | Blade Runner 2049                                |  0.993350625038147 "
      ]
     },
     "execution_count": 11,
     "metadata": {},
     "output_type": "execute_result"
    }
   ],
   "source": [
    "movie_id = \"0b142bcb-3bcb-4ce7-943e-b73b16cf4f15\"\n",
    "graph.run(\n",
    "    (\n",
    "        f\"MATCH (m1:Movie{{id: '{movie_id}'}})-[s:SIMILAR]->(m2:Movie) \"\n",
    "        \"RETURN m2.id AS ID, m2.title AS TITLE, s.score AS SIMILARITY \"\n",
    "        \"ORDER BY SIMILARITY DESC \"\n",
    "    )\n",
    ").to_table()"
   ]
  },
  {
   "cell_type": "markdown",
   "metadata": {},
   "source": [
    " Recommending __similar movies__"
   ]
  },
  {
   "cell_type": "code",
   "execution_count": 6,
   "metadata": {},
   "outputs": [
    {
     "data": {
      "text/html": [
       "<table><tr><th>ID</th><th>TITLE</th><th>SCORE</th></tr><tr><td style=\"text-align:left\">7ce39604-1646-44c1-8ac6-8ea31b9a8084</td><td style=\"text-align:left\">Pianist, The</td><td style=\"text-align:right\">4.992698431015015</td></tr><tr><td style=\"text-align:left\">5f210d5a-f719-48b7-a388-de6e21b3d781</td><td style=\"text-align:left\">Blue Planet II</td><td style=\"text-align:right\">4.97689962387085</td></tr><tr><td style=\"text-align:left\">e79cfc9a-f881-42a3-9daf-84ef2c776f20</td><td style=\"text-align:left\">Misery</td><td style=\"text-align:right\">4.9765545129776</td></tr><tr><td style=\"text-align:left\">68b0af18-162a-4111-b282-60555570d482</td><td style=\"text-align:left\">Green Mile, The</td><td style=\"text-align:right\">4.9761658906936646</td></tr><tr><td style=\"text-align:left\">cbf03f03-037e-4b76-8fab-74a18f36c95a</td><td style=\"text-align:left\">Seven (a.k.a. Se7en)</td><td style=\"text-align:right\">4.975505769252777</td></tr><tr><td style=\"text-align:left\">81f3f3d5-8d2c-4b2c-8a4c-0b8c773750fa</td><td style=\"text-align:left\">12 Years a Slave</td><td style=\"text-align:right\">4.97529149055481</td></tr><tr><td style=\"text-align:left\">cff9c910-4b33-4461-80e0-69ec1bd3d91d</td><td style=\"text-align:left\">Dear Zachary: A Letter to a Son About His Father</td><td style=\"text-align:right\">4.9745529890060425</td></tr><tr><td style=\"text-align:left\">f8b83362-5876-46dc-9168-cac41bc65def</td><td style=\"text-align:left\">Cosmos: A Spacetime</td><td style=\"text-align:right\">4.9743252992630005</td></tr><tr><td style=\"text-align:left\">29aae105-8c06-465c-9588-f24c091e93f0</td><td style=\"text-align:left\">Runaway Jury</td><td style=\"text-align:right\">4.974263310432434</td></tr><tr><td style=\"text-align:left\">34eeffd8-d5a6-4ae6-a6d3-94064fbd5f48</td><td style=\"text-align:left\">Slumdog Millionaire</td><td style=\"text-align:right\">4.974065721035004</td></tr></table>"
      ],
      "text/plain": [
       " ID                                   | TITLE                                            |              SCORE \n",
       "--------------------------------------|--------------------------------------------------|--------------------\n",
       " 7ce39604-1646-44c1-8ac6-8ea31b9a8084 | Pianist, The                                     |  4.992698431015015 \n",
       " 5f210d5a-f719-48b7-a388-de6e21b3d781 | Blue Planet II                                   |   4.97689962387085 \n",
       " e79cfc9a-f881-42a3-9daf-84ef2c776f20 | Misery                                           |    4.9765545129776 \n",
       " 68b0af18-162a-4111-b282-60555570d482 | Green Mile, The                                  | 4.9761658906936646 \n",
       " cbf03f03-037e-4b76-8fab-74a18f36c95a | Seven (a.k.a. Se7en)                             |  4.975505769252777 \n",
       " 81f3f3d5-8d2c-4b2c-8a4c-0b8c773750fa | 12 Years a Slave                                 |   4.97529149055481 \n",
       " cff9c910-4b33-4461-80e0-69ec1bd3d91d | Dear Zachary: A Letter to a Son About His Father | 4.9745529890060425 \n",
       " f8b83362-5876-46dc-9168-cac41bc65def | Cosmos: A Spacetime                              | 4.9743252992630005 \n",
       " 29aae105-8c06-465c-9588-f24c091e93f0 | Runaway Jury                                     |  4.974263310432434 \n",
       " 34eeffd8-d5a6-4ae6-a6d3-94064fbd5f48 | Slumdog Millionaire                              |  4.974065721035004 "
      ]
     },
     "execution_count": 6,
     "metadata": {},
     "output_type": "execute_result"
    }
   ],
   "source": [
    "user_id = \"85cd6e98-63a7-4445-9342-85c2a5628be6\"\n",
    "\n",
    "graph.run(\n",
    "    (   f\"MATCH(u:User {{id: '{user_id}'}})-[:RATES]->(m:Movie) \"\n",
    "        \"WITH collect(m.id) AS watchedMoviesIds \"\n",
    "        f\"MATCH (u:User{{id: '{user_id}'}})-[r:RATES]->(m1:Movie)-[s:SIMILAR]->(m2:Movie) \"\n",
    "        \"WHERE NOT m2.id IN watchedMoviesIds \"\n",
    "        \"RETURN m2.id AS ID , m2.title AS TITLE, s.score*r.score AS SCORE \"\n",
    "        \"ORDER BY SCORE DESC \"\n",
    "        \"LIMIT 10\"\n",
    "    )\n",
    ").to_table()"
   ]
  }
 ],
 "metadata": {
  "kernelspec": {
   "display_name": "Python 3.10.4 ('venv': venv)",
   "language": "python",
   "name": "python3"
  },
  "language_info": {
   "codemirror_mode": {
    "name": "ipython",
    "version": 3
   },
   "file_extension": ".py",
   "mimetype": "text/x-python",
   "name": "python",
   "nbconvert_exporter": "python",
   "pygments_lexer": "ipython3",
   "version": "3.10.4"
  },
  "orig_nbformat": 4,
  "vscode": {
   "interpreter": {
    "hash": "56856fb219af371e327a0bd05d55f5c65d03579680a2662f718f0cbf637246ff"
   }
  }
 },
 "nbformat": 4,
 "nbformat_minor": 2
}
